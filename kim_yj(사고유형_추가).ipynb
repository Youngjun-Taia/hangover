{
 "cells": [
  {
   "cell_type": "code",
   "execution_count": 17,
   "metadata": {},
   "outputs": [
    {
     "name": "stdout",
     "output_type": "stream",
     "text": [
      "numpy version: 2.1.0\n",
      "pandas version: 2.2.2\n",
      "seaborn version: 0.13.2\n",
      "matplotlib: mpl 3.9.2\n",
      "sklearn version: 1.5.1\n"
     ]
    }
   ],
   "source": [
    "# 범주형 - 범주형 구조에 대한 데이터 분석\n",
    "# 사고유형과 가해자상해정도\n",
    "import numpy as np\n",
    "import matplotlib as mpl\n",
    "import matplotlib.pyplot as plt\n",
    "import pandas as pd\n",
    "import seaborn as sns\n",
    "import sklearn\n",
    "from sklearn.preprocessing import LabelEncoder\n",
    "\n",
    "\n",
    "print('numpy version:', np.__version__)\n",
    "print('pandas version:', pd.__version__)\n",
    "print('seaborn version:', sns.__version__)\n",
    "print(f\"matplotlib: mpl {plt.matplotlib.__version__}\")\n",
    "print('sklearn version:', sklearn.__version__)\n",
    "\n",
    "font_path = \"c:/Windows/Fonts/malgun.ttf\"\n",
    "font_prop = mpl.font_manager.FontProperties(fname=font_path)\n",
    "mpl.rcParams['font.family'] = font_prop.get_name()\n",
    "mpl.rcParams['axes.unicode_minus'] = False"
   ]
  },
  {
   "cell_type": "code",
   "execution_count": 18,
   "metadata": {},
   "outputs": [],
   "source": [
    "accident = pd.read_csv('not_cate_data.csv')"
   ]
  },
  {
   "cell_type": "code",
   "execution_count": 19,
   "metadata": {},
   "outputs": [
    {
     "data": {
      "text/html": [
       "<div>\n",
       "<style scoped>\n",
       "    .dataframe tbody tr th:only-of-type {\n",
       "        vertical-align: middle;\n",
       "    }\n",
       "\n",
       "    .dataframe tbody tr th {\n",
       "        vertical-align: top;\n",
       "    }\n",
       "\n",
       "    .dataframe thead th {\n",
       "        text-align: right;\n",
       "    }\n",
       "</style>\n",
       "<table border=\"1\" class=\"dataframe\">\n",
       "  <thead>\n",
       "    <tr style=\"text-align: right;\">\n",
       "      <th></th>\n",
       "      <th>사고일시</th>\n",
       "      <th>요일</th>\n",
       "      <th>사고유형</th>\n",
       "      <th>노면상태</th>\n",
       "      <th>기상상태</th>\n",
       "      <th>도로형태</th>\n",
       "      <th>가해운전자 차종</th>\n",
       "      <th>가해운전자 연령</th>\n",
       "      <th>가해운전자 상해정도</th>\n",
       "      <th>피해운전자 차종</th>\n",
       "      <th>피해운전자 성별</th>\n",
       "      <th>피해운전자 연령</th>\n",
       "      <th>피해운전자 상해정도</th>\n",
       "      <th>사고날짜</th>\n",
       "      <th>사고시간</th>\n",
       "    </tr>\n",
       "  </thead>\n",
       "  <tbody>\n",
       "    <tr>\n",
       "      <th>0</th>\n",
       "      <td>2014-01-01 00:00:00</td>\n",
       "      <td>수요일</td>\n",
       "      <td>차대차</td>\n",
       "      <td>건조</td>\n",
       "      <td>맑음</td>\n",
       "      <td>단일로</td>\n",
       "      <td>승용</td>\n",
       "      <td>31</td>\n",
       "      <td>상해없음</td>\n",
       "      <td>승용</td>\n",
       "      <td>남</td>\n",
       "      <td>65.0</td>\n",
       "      <td>부상신고</td>\n",
       "      <td>2014-01-01</td>\n",
       "      <td>00:00:00</td>\n",
       "    </tr>\n",
       "    <tr>\n",
       "      <th>1</th>\n",
       "      <td>2014-01-01 01:00:00</td>\n",
       "      <td>수요일</td>\n",
       "      <td>차대차</td>\n",
       "      <td>기타</td>\n",
       "      <td>맑음</td>\n",
       "      <td>단일로</td>\n",
       "      <td>승용</td>\n",
       "      <td>32</td>\n",
       "      <td>상해없음</td>\n",
       "      <td>승용</td>\n",
       "      <td>남</td>\n",
       "      <td>54.0</td>\n",
       "      <td>중상</td>\n",
       "      <td>2014-01-01</td>\n",
       "      <td>01:00:00</td>\n",
       "    </tr>\n",
       "    <tr>\n",
       "      <th>2</th>\n",
       "      <td>2014-01-01 02:00:00</td>\n",
       "      <td>수요일</td>\n",
       "      <td>차대차</td>\n",
       "      <td>건조</td>\n",
       "      <td>맑음</td>\n",
       "      <td>단일로</td>\n",
       "      <td>승용</td>\n",
       "      <td>26</td>\n",
       "      <td>상해없음</td>\n",
       "      <td>승용</td>\n",
       "      <td>여</td>\n",
       "      <td>26.0</td>\n",
       "      <td>부상신고</td>\n",
       "      <td>2014-01-01</td>\n",
       "      <td>02:00:00</td>\n",
       "    </tr>\n",
       "    <tr>\n",
       "      <th>3</th>\n",
       "      <td>2014-01-01 02:00:00</td>\n",
       "      <td>수요일</td>\n",
       "      <td>차대차</td>\n",
       "      <td>건조</td>\n",
       "      <td>맑음</td>\n",
       "      <td>단일로</td>\n",
       "      <td>승용</td>\n",
       "      <td>29</td>\n",
       "      <td>상해없음</td>\n",
       "      <td>승용</td>\n",
       "      <td>남</td>\n",
       "      <td>25.0</td>\n",
       "      <td>경상</td>\n",
       "      <td>2014-01-01</td>\n",
       "      <td>02:00:00</td>\n",
       "    </tr>\n",
       "    <tr>\n",
       "      <th>4</th>\n",
       "      <td>2014-01-01 02:00:00</td>\n",
       "      <td>수요일</td>\n",
       "      <td>차대차</td>\n",
       "      <td>건조</td>\n",
       "      <td>맑음</td>\n",
       "      <td>교차로</td>\n",
       "      <td>승용</td>\n",
       "      <td>42</td>\n",
       "      <td>상해없음</td>\n",
       "      <td>승용</td>\n",
       "      <td>남</td>\n",
       "      <td>37.0</td>\n",
       "      <td>경상</td>\n",
       "      <td>2014-01-01</td>\n",
       "      <td>02:00:00</td>\n",
       "    </tr>\n",
       "  </tbody>\n",
       "</table>\n",
       "</div>"
      ],
      "text/plain": [
       "                  사고일시   요일 사고유형 노면상태 기상상태 도로형태 가해운전자 차종  가해운전자 연령 가해운전자 상해정도  \\\n",
       "0  2014-01-01 00:00:00  수요일  차대차   건조   맑음  단일로       승용        31       상해없음   \n",
       "1  2014-01-01 01:00:00  수요일  차대차   기타   맑음  단일로       승용        32       상해없음   \n",
       "2  2014-01-01 02:00:00  수요일  차대차   건조   맑음  단일로       승용        26       상해없음   \n",
       "3  2014-01-01 02:00:00  수요일  차대차   건조   맑음  단일로       승용        29       상해없음   \n",
       "4  2014-01-01 02:00:00  수요일  차대차   건조   맑음  교차로       승용        42       상해없음   \n",
       "\n",
       "  피해운전자 차종 피해운전자 성별  피해운전자 연령 피해운전자 상해정도        사고날짜      사고시간  \n",
       "0       승용        남      65.0       부상신고  2014-01-01  00:00:00  \n",
       "1       승용        남      54.0         중상  2014-01-01  01:00:00  \n",
       "2       승용        여      26.0       부상신고  2014-01-01  02:00:00  \n",
       "3       승용        남      25.0         경상  2014-01-01  02:00:00  \n",
       "4       승용        남      37.0         경상  2014-01-01  02:00:00  "
      ]
     },
     "execution_count": 19,
     "metadata": {},
     "output_type": "execute_result"
    }
   ],
   "source": [
    "accident.head()"
   ]
  },
  {
   "cell_type": "code",
   "execution_count": 20,
   "metadata": {},
   "outputs": [],
   "source": [
    "import statsmodels.api as sm\n",
    "from statsmodels.formula.api import ols\n",
    "\n",
    "# 데이터프레임 생성 (예시 데이터)\n",
    "df = accident[['가해운전자 상해정도', '사고유형']]"
   ]
  },
  {
   "cell_type": "code",
   "execution_count": 21,
   "metadata": {},
   "outputs": [
    {
     "name": "stderr",
     "output_type": "stream",
     "text": [
      "C:\\Users\\medici\\AppData\\Local\\Temp\\ipykernel_37948\\1584831683.py:1: SettingWithCopyWarning: \n",
      "A value is trying to be set on a copy of a slice from a DataFrame\n",
      "\n",
      "See the caveats in the documentation: https://pandas.pydata.org/pandas-docs/stable/user_guide/indexing.html#returning-a-view-versus-a-copy\n",
      "  df.rename(columns={'가해운전자 상해정도': '가해운전자_상해정도'}, inplace=True)\n"
     ]
    }
   ],
   "source": [
    "df.rename(columns={'가해운전자 상해정도': '가해운전자_상해정도'}, inplace=True)"
   ]
  },
  {
   "cell_type": "code",
   "execution_count": 22,
   "metadata": {},
   "outputs": [
    {
     "name": "stdout",
     "output_type": "stream",
     "text": [
      "Chi2 Stat: 7840.2442054651465\n",
      "p-value: 0.0\n"
     ]
    }
   ],
   "source": [
    "import pandas as pd\n",
    "import scipy.stats as stats\n",
    "\n",
    "# 예시 데이터\n",
    "# 교차 테이블 생성\n",
    "contingency_table = pd.crosstab(df['사고유형'], df['가해운전자_상해정도'])\n",
    "\n",
    "# 카이제곱 독립성 검정\n",
    "chi2, p, _, _ = stats.chi2_contingency(contingency_table)\n",
    "\n",
    "print(f'Chi2 Stat: {chi2}')\n",
    "print(f'p-value: {p}')\n"
   ]
  },
  {
   "cell_type": "code",
   "execution_count": 23,
   "metadata": {},
   "outputs": [
    {
     "name": "stdout",
     "output_type": "stream",
     "text": [
      "Cramér's V: 0.40375633129734667\n"
     ]
    }
   ],
   "source": [
    "from scipy.stats import chi2_contingency\n",
    "def cramers_v(chi2, n):\n",
    "    return np.sqrt(chi2 / (n * (min(contingency_table.shape) - 1)))\n",
    "\n",
    "chi2, _, _, _ = chi2_contingency(contingency_table)\n",
    "\n",
    "# Cramér's V 계산\n",
    "n = contingency_table.sum().sum()\n",
    "cramers_v_value = cramers_v(chi2, n)\n",
    "\n",
    "print(f'Cramér\\'s V: {cramers_v_value}')"
   ]
  },
  {
   "cell_type": "code",
   "execution_count": 24,
   "metadata": {},
   "outputs": [
    {
     "data": {
      "image/png": "[encoded data removed]",
      "text/plain": [
       "<Figure size 600x200 with 1 Axes>"
      ]
     },
     "metadata": {},
     "output_type": "display_data"
    }
   ],
   "source": [
    "cramers_v= 0.40375633129734667\n",
    "plt.figure(figsize=(6, 2))\n",
    "plt.barh([cramers_v], [cramers_v_value], color='skyblue')\n",
    "plt.xlabel('Cramér\\'s V 값')\n",
    "plt.title('Cramér\\'s V 시각화')\n",
    "plt.xlim(0, 1)  # Cramér's V는 0에서 1 사이의 값\n",
    "plt.show()"
   ]
  },
  {
   "cell_type": "code",
   "execution_count": 25,
   "metadata": {},
   "outputs": [
    {
     "data": {
      "image/png": "[encoded data removed]",
      "text/plain": [
       "<Figure size 800x600 with 2 Axes>"
      ]
     },
     "metadata": {},
     "output_type": "display_data"
    }
   ],
   "source": [
    "#카이제곱에 대한 시각화\n",
    "\n",
    "plt.figure(figsize=(8, 6))\n",
    "sns.heatmap(contingency_table, annot=True, cmap='YlGnBu', fmt='d', linewidths=.5)\n",
    "plt.title('교차 테이블 히트맵')\n",
    "plt.xlabel('사고유형')\n",
    "plt.ylabel('상해정도')\n",
    "plt.show()"
   ]
  },
  {
   "cell_type": "code",
   "execution_count": null,
   "metadata": {},
   "outputs": [],
   "source": []
  }
 ],
 "metadata": {
  "kernelspec": {
   "display_name": "mlearning",
   "language": "python",
   "name": "python3"
  },
  "language_info": {
   "codemirror_mode": {
    "name": "ipython",
    "version": 3
   },
   "file_extension": ".py",
   "mimetype": "text/x-python",
   "name": "python",
   "nbconvert_exporter": "python",
   "pygments_lexer": "ipython3",
   "version": "3.12.5"
  }
 },
 "nbformat": 4,
 "nbformat_minor": 2
}
