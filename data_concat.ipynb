{
 "cells": [
  {
   "cell_type": "code",
   "execution_count": 2,
   "metadata": {},
   "outputs": [
    {
     "name": "stdout",
     "output_type": "stream",
     "text": [
      "numpy version: 2.1.0\n",
      "pandas version: 2.2.2\n",
      "seaborn version: 0.13.2\n",
      "matplotlib: mpl 3.9.2\n",
      "sklearn version: 1.5.1\n"
     ]
    }
   ],
   "source": [
    "import numpy as np\n",
    "import matplotlib as mpl\n",
    "import matplotlib.pyplot as plt\n",
    "import pandas as pd\n",
    "import seaborn as sns\n",
    "import sklearn\n",
    "\n",
    "print('numpy version:', np.__version__)\n",
    "print('pandas version:', pd.__version__)\n",
    "print('seaborn version:', sns.__version__)\n",
    "print(f\"matplotlib: mpl {plt.matplotlib.__version__}\")\n",
    "print('sklearn version:', sklearn.__version__)\n",
    "\n",
    "font_path = \"c:/Windows/Fonts/malgun.ttf\"\n",
    "font_prop = mpl.font_manager.FontProperties(fname=font_path)\n",
    "mpl.rcParams['font.family'] = font_prop.get_name()\n",
    "mpl.rcParams['axes.unicode_minus'] = False"
   ]
  },
  {
   "cell_type": "code",
   "execution_count": 3,
   "metadata": {},
   "outputs": [
    {
     "ename": "FileNotFoundError",
     "evalue": "[Errno 2] No such file or directory: 'accidentInfoList21-23.csv'",
     "output_type": "error",
     "traceback": [
      "\u001b[1;31m---------------------------------------------------------------------------\u001b[0m",
      "\u001b[1;31mFileNotFoundError\u001b[0m                         Traceback (most recent call last)",
      "Cell \u001b[1;32mIn[3], line 1\u001b[0m\n\u001b[1;32m----> 1\u001b[0m raw_data23 \u001b[38;5;241m=\u001b[39m \u001b[43mpd\u001b[49m\u001b[38;5;241;43m.\u001b[39;49m\u001b[43mread_csv\u001b[49m\u001b[43m(\u001b[49m\u001b[38;5;124;43m'\u001b[39;49m\u001b[38;5;124;43maccidentInfoList21-23.csv\u001b[39;49m\u001b[38;5;124;43m'\u001b[39;49m\u001b[43m)\u001b[49m\n\u001b[0;32m      2\u001b[0m raw_data20 \u001b[38;5;241m=\u001b[39m pd\u001b[38;5;241m.\u001b[39mread_csv(\u001b[38;5;124m'\u001b[39m\u001b[38;5;124maccidentInfoList18-20.csv\u001b[39m\u001b[38;5;124m'\u001b[39m)\n\u001b[0;32m      3\u001b[0m raw_data17 \u001b[38;5;241m=\u001b[39m pd\u001b[38;5;241m.\u001b[39mread_csv(\u001b[38;5;124m'\u001b[39m\u001b[38;5;124maccidentInfoList15-17.csv\u001b[39m\u001b[38;5;124m'\u001b[39m)\n",
      "File \u001b[1;32mc:\\Users\\user\\miniconda3\\envs\\baseball_project\\Lib\\site-packages\\pandas\\io\\parsers\\readers.py:1026\u001b[0m, in \u001b[0;36mread_csv\u001b[1;34m(filepath_or_buffer, sep, delimiter, header, names, index_col, usecols, dtype, engine, converters, true_values, false_values, skipinitialspace, skiprows, skipfooter, nrows, na_values, keep_default_na, na_filter, verbose, skip_blank_lines, parse_dates, infer_datetime_format, keep_date_col, date_parser, date_format, dayfirst, cache_dates, iterator, chunksize, compression, thousands, decimal, lineterminator, quotechar, quoting, doublequote, escapechar, comment, encoding, encoding_errors, dialect, on_bad_lines, delim_whitespace, low_memory, memory_map, float_precision, storage_options, dtype_backend)\u001b[0m\n\u001b[0;32m   1013\u001b[0m kwds_defaults \u001b[38;5;241m=\u001b[39m _refine_defaults_read(\n\u001b[0;32m   1014\u001b[0m     dialect,\n\u001b[0;32m   1015\u001b[0m     delimiter,\n\u001b[1;32m   (...)\u001b[0m\n\u001b[0;32m   1022\u001b[0m     dtype_backend\u001b[38;5;241m=\u001b[39mdtype_backend,\n\u001b[0;32m   1023\u001b[0m )\n\u001b[0;32m   1024\u001b[0m kwds\u001b[38;5;241m.\u001b[39mupdate(kwds_defaults)\n\u001b[1;32m-> 1026\u001b[0m \u001b[38;5;28;01mreturn\u001b[39;00m \u001b[43m_read\u001b[49m\u001b[43m(\u001b[49m\u001b[43mfilepath_or_buffer\u001b[49m\u001b[43m,\u001b[49m\u001b[43m \u001b[49m\u001b[43mkwds\u001b[49m\u001b[43m)\u001b[49m\n",
      "File \u001b[1;32mc:\\Users\\user\\miniconda3\\envs\\baseball_project\\Lib\\site-packages\\pandas\\io\\parsers\\readers.py:620\u001b[0m, in \u001b[0;36m_read\u001b[1;34m(filepath_or_buffer, kwds)\u001b[0m\n\u001b[0;32m    617\u001b[0m _validate_names(kwds\u001b[38;5;241m.\u001b[39mget(\u001b[38;5;124m\"\u001b[39m\u001b[38;5;124mnames\u001b[39m\u001b[38;5;124m\"\u001b[39m, \u001b[38;5;28;01mNone\u001b[39;00m))\n\u001b[0;32m    619\u001b[0m \u001b[38;5;66;03m# Create the parser.\u001b[39;00m\n\u001b[1;32m--> 620\u001b[0m parser \u001b[38;5;241m=\u001b[39m \u001b[43mTextFileReader\u001b[49m\u001b[43m(\u001b[49m\u001b[43mfilepath_or_buffer\u001b[49m\u001b[43m,\u001b[49m\u001b[43m \u001b[49m\u001b[38;5;241;43m*\u001b[39;49m\u001b[38;5;241;43m*\u001b[39;49m\u001b[43mkwds\u001b[49m\u001b[43m)\u001b[49m\n\u001b[0;32m    622\u001b[0m \u001b[38;5;28;01mif\u001b[39;00m chunksize \u001b[38;5;129;01mor\u001b[39;00m iterator:\n\u001b[0;32m    623\u001b[0m     \u001b[38;5;28;01mreturn\u001b[39;00m parser\n",
      "File \u001b[1;32mc:\\Users\\user\\miniconda3\\envs\\baseball_project\\Lib\\site-packages\\pandas\\io\\parsers\\readers.py:1620\u001b[0m, in \u001b[0;36mTextFileReader.__init__\u001b[1;34m(self, f, engine, **kwds)\u001b[0m\n\u001b[0;32m   1617\u001b[0m     \u001b[38;5;28mself\u001b[39m\u001b[38;5;241m.\u001b[39moptions[\u001b[38;5;124m\"\u001b[39m\u001b[38;5;124mhas_index_names\u001b[39m\u001b[38;5;124m\"\u001b[39m] \u001b[38;5;241m=\u001b[39m kwds[\u001b[38;5;124m\"\u001b[39m\u001b[38;5;124mhas_index_names\u001b[39m\u001b[38;5;124m\"\u001b[39m]\n\u001b[0;32m   1619\u001b[0m \u001b[38;5;28mself\u001b[39m\u001b[38;5;241m.\u001b[39mhandles: IOHandles \u001b[38;5;241m|\u001b[39m \u001b[38;5;28;01mNone\u001b[39;00m \u001b[38;5;241m=\u001b[39m \u001b[38;5;28;01mNone\u001b[39;00m\n\u001b[1;32m-> 1620\u001b[0m \u001b[38;5;28mself\u001b[39m\u001b[38;5;241m.\u001b[39m_engine \u001b[38;5;241m=\u001b[39m \u001b[38;5;28;43mself\u001b[39;49m\u001b[38;5;241;43m.\u001b[39;49m\u001b[43m_make_engine\u001b[49m\u001b[43m(\u001b[49m\u001b[43mf\u001b[49m\u001b[43m,\u001b[49m\u001b[43m \u001b[49m\u001b[38;5;28;43mself\u001b[39;49m\u001b[38;5;241;43m.\u001b[39;49m\u001b[43mengine\u001b[49m\u001b[43m)\u001b[49m\n",
      "File \u001b[1;32mc:\\Users\\user\\miniconda3\\envs\\baseball_project\\Lib\\site-packages\\pandas\\io\\parsers\\readers.py:1880\u001b[0m, in \u001b[0;36mTextFileReader._make_engine\u001b[1;34m(self, f, engine)\u001b[0m\n\u001b[0;32m   1878\u001b[0m     \u001b[38;5;28;01mif\u001b[39;00m \u001b[38;5;124m\"\u001b[39m\u001b[38;5;124mb\u001b[39m\u001b[38;5;124m\"\u001b[39m \u001b[38;5;129;01mnot\u001b[39;00m \u001b[38;5;129;01min\u001b[39;00m mode:\n\u001b[0;32m   1879\u001b[0m         mode \u001b[38;5;241m+\u001b[39m\u001b[38;5;241m=\u001b[39m \u001b[38;5;124m\"\u001b[39m\u001b[38;5;124mb\u001b[39m\u001b[38;5;124m\"\u001b[39m\n\u001b[1;32m-> 1880\u001b[0m \u001b[38;5;28mself\u001b[39m\u001b[38;5;241m.\u001b[39mhandles \u001b[38;5;241m=\u001b[39m \u001b[43mget_handle\u001b[49m\u001b[43m(\u001b[49m\n\u001b[0;32m   1881\u001b[0m \u001b[43m    \u001b[49m\u001b[43mf\u001b[49m\u001b[43m,\u001b[49m\n\u001b[0;32m   1882\u001b[0m \u001b[43m    \u001b[49m\u001b[43mmode\u001b[49m\u001b[43m,\u001b[49m\n\u001b[0;32m   1883\u001b[0m \u001b[43m    \u001b[49m\u001b[43mencoding\u001b[49m\u001b[38;5;241;43m=\u001b[39;49m\u001b[38;5;28;43mself\u001b[39;49m\u001b[38;5;241;43m.\u001b[39;49m\u001b[43moptions\u001b[49m\u001b[38;5;241;43m.\u001b[39;49m\u001b[43mget\u001b[49m\u001b[43m(\u001b[49m\u001b[38;5;124;43m\"\u001b[39;49m\u001b[38;5;124;43mencoding\u001b[39;49m\u001b[38;5;124;43m\"\u001b[39;49m\u001b[43m,\u001b[49m\u001b[43m \u001b[49m\u001b[38;5;28;43;01mNone\u001b[39;49;00m\u001b[43m)\u001b[49m\u001b[43m,\u001b[49m\n\u001b[0;32m   1884\u001b[0m \u001b[43m    \u001b[49m\u001b[43mcompression\u001b[49m\u001b[38;5;241;43m=\u001b[39;49m\u001b[38;5;28;43mself\u001b[39;49m\u001b[38;5;241;43m.\u001b[39;49m\u001b[43moptions\u001b[49m\u001b[38;5;241;43m.\u001b[39;49m\u001b[43mget\u001b[49m\u001b[43m(\u001b[49m\u001b[38;5;124;43m\"\u001b[39;49m\u001b[38;5;124;43mcompression\u001b[39;49m\u001b[38;5;124;43m\"\u001b[39;49m\u001b[43m,\u001b[49m\u001b[43m \u001b[49m\u001b[38;5;28;43;01mNone\u001b[39;49;00m\u001b[43m)\u001b[49m\u001b[43m,\u001b[49m\n\u001b[0;32m   1885\u001b[0m \u001b[43m    \u001b[49m\u001b[43mmemory_map\u001b[49m\u001b[38;5;241;43m=\u001b[39;49m\u001b[38;5;28;43mself\u001b[39;49m\u001b[38;5;241;43m.\u001b[39;49m\u001b[43moptions\u001b[49m\u001b[38;5;241;43m.\u001b[39;49m\u001b[43mget\u001b[49m\u001b[43m(\u001b[49m\u001b[38;5;124;43m\"\u001b[39;49m\u001b[38;5;124;43mmemory_map\u001b[39;49m\u001b[38;5;124;43m\"\u001b[39;49m\u001b[43m,\u001b[49m\u001b[43m \u001b[49m\u001b[38;5;28;43;01mFalse\u001b[39;49;00m\u001b[43m)\u001b[49m\u001b[43m,\u001b[49m\n\u001b[0;32m   1886\u001b[0m \u001b[43m    \u001b[49m\u001b[43mis_text\u001b[49m\u001b[38;5;241;43m=\u001b[39;49m\u001b[43mis_text\u001b[49m\u001b[43m,\u001b[49m\n\u001b[0;32m   1887\u001b[0m \u001b[43m    \u001b[49m\u001b[43merrors\u001b[49m\u001b[38;5;241;43m=\u001b[39;49m\u001b[38;5;28;43mself\u001b[39;49m\u001b[38;5;241;43m.\u001b[39;49m\u001b[43moptions\u001b[49m\u001b[38;5;241;43m.\u001b[39;49m\u001b[43mget\u001b[49m\u001b[43m(\u001b[49m\u001b[38;5;124;43m\"\u001b[39;49m\u001b[38;5;124;43mencoding_errors\u001b[39;49m\u001b[38;5;124;43m\"\u001b[39;49m\u001b[43m,\u001b[49m\u001b[43m \u001b[49m\u001b[38;5;124;43m\"\u001b[39;49m\u001b[38;5;124;43mstrict\u001b[39;49m\u001b[38;5;124;43m\"\u001b[39;49m\u001b[43m)\u001b[49m\u001b[43m,\u001b[49m\n\u001b[0;32m   1888\u001b[0m \u001b[43m    \u001b[49m\u001b[43mstorage_options\u001b[49m\u001b[38;5;241;43m=\u001b[39;49m\u001b[38;5;28;43mself\u001b[39;49m\u001b[38;5;241;43m.\u001b[39;49m\u001b[43moptions\u001b[49m\u001b[38;5;241;43m.\u001b[39;49m\u001b[43mget\u001b[49m\u001b[43m(\u001b[49m\u001b[38;5;124;43m\"\u001b[39;49m\u001b[38;5;124;43mstorage_options\u001b[39;49m\u001b[38;5;124;43m\"\u001b[39;49m\u001b[43m,\u001b[49m\u001b[43m \u001b[49m\u001b[38;5;28;43;01mNone\u001b[39;49;00m\u001b[43m)\u001b[49m\u001b[43m,\u001b[49m\n\u001b[0;32m   1889\u001b[0m \u001b[43m\u001b[49m\u001b[43m)\u001b[49m\n\u001b[0;32m   1890\u001b[0m \u001b[38;5;28;01massert\u001b[39;00m \u001b[38;5;28mself\u001b[39m\u001b[38;5;241m.\u001b[39mhandles \u001b[38;5;129;01mis\u001b[39;00m \u001b[38;5;129;01mnot\u001b[39;00m \u001b[38;5;28;01mNone\u001b[39;00m\n\u001b[0;32m   1891\u001b[0m f \u001b[38;5;241m=\u001b[39m \u001b[38;5;28mself\u001b[39m\u001b[38;5;241m.\u001b[39mhandles\u001b[38;5;241m.\u001b[39mhandle\n",
      "File \u001b[1;32mc:\\Users\\user\\miniconda3\\envs\\baseball_project\\Lib\\site-packages\\pandas\\io\\common.py:873\u001b[0m, in \u001b[0;36mget_handle\u001b[1;34m(path_or_buf, mode, encoding, compression, memory_map, is_text, errors, storage_options)\u001b[0m\n\u001b[0;32m    868\u001b[0m \u001b[38;5;28;01melif\u001b[39;00m \u001b[38;5;28misinstance\u001b[39m(handle, \u001b[38;5;28mstr\u001b[39m):\n\u001b[0;32m    869\u001b[0m     \u001b[38;5;66;03m# Check whether the filename is to be opened in binary mode.\u001b[39;00m\n\u001b[0;32m    870\u001b[0m     \u001b[38;5;66;03m# Binary mode does not support 'encoding' and 'newline'.\u001b[39;00m\n\u001b[0;32m    871\u001b[0m     \u001b[38;5;28;01mif\u001b[39;00m ioargs\u001b[38;5;241m.\u001b[39mencoding \u001b[38;5;129;01mand\u001b[39;00m \u001b[38;5;124m\"\u001b[39m\u001b[38;5;124mb\u001b[39m\u001b[38;5;124m\"\u001b[39m \u001b[38;5;129;01mnot\u001b[39;00m \u001b[38;5;129;01min\u001b[39;00m ioargs\u001b[38;5;241m.\u001b[39mmode:\n\u001b[0;32m    872\u001b[0m         \u001b[38;5;66;03m# Encoding\u001b[39;00m\n\u001b[1;32m--> 873\u001b[0m         handle \u001b[38;5;241m=\u001b[39m \u001b[38;5;28;43mopen\u001b[39;49m\u001b[43m(\u001b[49m\n\u001b[0;32m    874\u001b[0m \u001b[43m            \u001b[49m\u001b[43mhandle\u001b[49m\u001b[43m,\u001b[49m\n\u001b[0;32m    875\u001b[0m \u001b[43m            \u001b[49m\u001b[43mioargs\u001b[49m\u001b[38;5;241;43m.\u001b[39;49m\u001b[43mmode\u001b[49m\u001b[43m,\u001b[49m\n\u001b[0;32m    876\u001b[0m \u001b[43m            \u001b[49m\u001b[43mencoding\u001b[49m\u001b[38;5;241;43m=\u001b[39;49m\u001b[43mioargs\u001b[49m\u001b[38;5;241;43m.\u001b[39;49m\u001b[43mencoding\u001b[49m\u001b[43m,\u001b[49m\n\u001b[0;32m    877\u001b[0m \u001b[43m            \u001b[49m\u001b[43merrors\u001b[49m\u001b[38;5;241;43m=\u001b[39;49m\u001b[43merrors\u001b[49m\u001b[43m,\u001b[49m\n\u001b[0;32m    878\u001b[0m \u001b[43m            \u001b[49m\u001b[43mnewline\u001b[49m\u001b[38;5;241;43m=\u001b[39;49m\u001b[38;5;124;43m\"\u001b[39;49m\u001b[38;5;124;43m\"\u001b[39;49m\u001b[43m,\u001b[49m\n\u001b[0;32m    879\u001b[0m \u001b[43m        \u001b[49m\u001b[43m)\u001b[49m\n\u001b[0;32m    880\u001b[0m     \u001b[38;5;28;01melse\u001b[39;00m:\n\u001b[0;32m    881\u001b[0m         \u001b[38;5;66;03m# Binary mode\u001b[39;00m\n\u001b[0;32m    882\u001b[0m         handle \u001b[38;5;241m=\u001b[39m \u001b[38;5;28mopen\u001b[39m(handle, ioargs\u001b[38;5;241m.\u001b[39mmode)\n",
      "\u001b[1;31mFileNotFoundError\u001b[0m: [Errno 2] No such file or directory: 'accidentInfoList21-23.csv'"
     ]
    }
   ],
   "source": [
    "raw_data23 = pd.read_csv('accidentInfoList21-23.csv')\n",
    "raw_data20 = pd.read_csv('accidentInfoList18-20.csv')\n",
    "raw_data17 = pd.read_csv('accidentInfoList15-17.csv')\n",
    "raw_data14 = pd.read_csv('accidentInfoList14.csv')"
   ]
  },
  {
   "cell_type": "code",
   "execution_count": 6,
   "metadata": {},
   "outputs": [
    {
     "data": {
      "text/html": [
       "<div>\n",
       "<style scoped>\n",
       "    .dataframe tbody tr th:only-of-type {\n",
       "        vertical-align: middle;\n",
       "    }\n",
       "\n",
       "    .dataframe tbody tr th {\n",
       "        vertical-align: top;\n",
       "    }\n",
       "\n",
       "    .dataframe thead th {\n",
       "        text-align: right;\n",
       "    }\n",
       "</style>\n",
       "<table border=\"1\" class=\"dataframe\">\n",
       "  <thead>\n",
       "    <tr style=\"text-align: right;\">\n",
       "      <th></th>\n",
       "      <th>검색조건 - 사고년도:2014~2014; 사고지역:서울특별시 :: 전체 :: ; 사고내용:사망사고, 중상사고, 경상사고, 부상신고; 음주운전 사고</th>\n",
       "      <th>Unnamed: 1</th>\n",
       "      <th>Unnamed: 2</th>\n",
       "      <th>Unnamed: 3</th>\n",
       "      <th>Unnamed: 4</th>\n",
       "      <th>Unnamed: 5</th>\n",
       "      <th>Unnamed: 6</th>\n",
       "      <th>Unnamed: 7</th>\n",
       "      <th>Unnamed: 8</th>\n",
       "      <th>Unnamed: 9</th>\n",
       "      <th>...</th>\n",
       "      <th>Unnamed: 12</th>\n",
       "      <th>Unnamed: 13</th>\n",
       "      <th>Unnamed: 14</th>\n",
       "      <th>Unnamed: 15</th>\n",
       "      <th>Unnamed: 16</th>\n",
       "      <th>Unnamed: 17</th>\n",
       "      <th>Unnamed: 18</th>\n",
       "      <th>Unnamed: 19</th>\n",
       "      <th>Unnamed: 20</th>\n",
       "      <th>Unnamed: 21</th>\n",
       "    </tr>\n",
       "  </thead>\n",
       "  <tbody>\n",
       "    <tr>\n",
       "      <th>0</th>\n",
       "      <td>사고번호</td>\n",
       "      <td>사고일시</td>\n",
       "      <td>요일</td>\n",
       "      <td>시군구</td>\n",
       "      <td>사고내용</td>\n",
       "      <td>사망자수</td>\n",
       "      <td>중상자수</td>\n",
       "      <td>경상자수</td>\n",
       "      <td>부상신고자수</td>\n",
       "      <td>사고유형</td>\n",
       "      <td>...</td>\n",
       "      <td>기상상태</td>\n",
       "      <td>도로형태</td>\n",
       "      <td>가해운전자 차종</td>\n",
       "      <td>가해운전자 성별</td>\n",
       "      <td>가해운전자 연령</td>\n",
       "      <td>가해운전자 상해정도</td>\n",
       "      <td>피해운전자 차종</td>\n",
       "      <td>피해운전자 성별</td>\n",
       "      <td>피해운전자 연령</td>\n",
       "      <td>피해운전자 상해정도</td>\n",
       "    </tr>\n",
       "    <tr>\n",
       "      <th>1</th>\n",
       "      <td>2014010100100005</td>\n",
       "      <td>2014년 1월 1일 00시</td>\n",
       "      <td>수요일</td>\n",
       "      <td>서울특별시 구로구 오류동</td>\n",
       "      <td>부상신고사고</td>\n",
       "      <td>0</td>\n",
       "      <td>0</td>\n",
       "      <td>0</td>\n",
       "      <td>2</td>\n",
       "      <td>차대차 - 기타</td>\n",
       "      <td>...</td>\n",
       "      <td>맑음</td>\n",
       "      <td>단일로 - 기타</td>\n",
       "      <td>승용</td>\n",
       "      <td>남</td>\n",
       "      <td>31세</td>\n",
       "      <td>상해없음</td>\n",
       "      <td>승용</td>\n",
       "      <td>남</td>\n",
       "      <td>65세</td>\n",
       "      <td>부상신고</td>\n",
       "    </tr>\n",
       "    <tr>\n",
       "      <th>2</th>\n",
       "      <td>2014010100100029</td>\n",
       "      <td>2014년 1월 1일 01시</td>\n",
       "      <td>수요일</td>\n",
       "      <td>서울특별시 성동구 마장동</td>\n",
       "      <td>중상사고</td>\n",
       "      <td>0</td>\n",
       "      <td>1</td>\n",
       "      <td>3</td>\n",
       "      <td>0</td>\n",
       "      <td>차대차 - 기타</td>\n",
       "      <td>...</td>\n",
       "      <td>맑음</td>\n",
       "      <td>단일로 - 기타</td>\n",
       "      <td>승용</td>\n",
       "      <td>남</td>\n",
       "      <td>32세</td>\n",
       "      <td>상해없음</td>\n",
       "      <td>승용</td>\n",
       "      <td>남</td>\n",
       "      <td>54세</td>\n",
       "      <td>중상</td>\n",
       "    </tr>\n",
       "    <tr>\n",
       "      <th>3</th>\n",
       "      <td>2014010100100050</td>\n",
       "      <td>2014년 1월 1일 02시</td>\n",
       "      <td>수요일</td>\n",
       "      <td>서울특별시 광진구 광장동</td>\n",
       "      <td>중상사고</td>\n",
       "      <td>0</td>\n",
       "      <td>1</td>\n",
       "      <td>0</td>\n",
       "      <td>4</td>\n",
       "      <td>차대차 - 추돌 - 진행중</td>\n",
       "      <td>...</td>\n",
       "      <td>맑음</td>\n",
       "      <td>단일로 - 기타</td>\n",
       "      <td>승용</td>\n",
       "      <td>남</td>\n",
       "      <td>26세</td>\n",
       "      <td>상해없음</td>\n",
       "      <td>승용</td>\n",
       "      <td>여</td>\n",
       "      <td>26세</td>\n",
       "      <td>부상신고</td>\n",
       "    </tr>\n",
       "    <tr>\n",
       "      <th>4</th>\n",
       "      <td>2014010100100053</td>\n",
       "      <td>2014년 1월 1일 02시</td>\n",
       "      <td>수요일</td>\n",
       "      <td>서울특별시 구로구 개봉동</td>\n",
       "      <td>경상사고</td>\n",
       "      <td>0</td>\n",
       "      <td>0</td>\n",
       "      <td>2</td>\n",
       "      <td>0</td>\n",
       "      <td>차대차 - 기타</td>\n",
       "      <td>...</td>\n",
       "      <td>맑음</td>\n",
       "      <td>단일로 - 기타</td>\n",
       "      <td>승용</td>\n",
       "      <td>남</td>\n",
       "      <td>29세</td>\n",
       "      <td>상해없음</td>\n",
       "      <td>승용</td>\n",
       "      <td>남</td>\n",
       "      <td>25세</td>\n",
       "      <td>경상</td>\n",
       "    </tr>\n",
       "  </tbody>\n",
       "</table>\n",
       "<p>5 rows × 22 columns</p>\n",
       "</div>"
      ],
      "text/plain": [
       "  검색조건 - 사고년도:2014~2014; 사고지역:서울특별시 :: 전체 :: ; 사고내용:사망사고, 중상사고, 경상사고, 부상신고; 음주운전 사고  \\\n",
       "0                                               사고번호                                  \n",
       "1                                   2014010100100005                                  \n",
       "2                                   2014010100100029                                  \n",
       "3                                   2014010100100050                                  \n",
       "4                                   2014010100100053                                  \n",
       "\n",
       "        Unnamed: 1 Unnamed: 2     Unnamed: 3 Unnamed: 4 Unnamed: 5 Unnamed: 6  \\\n",
       "0             사고일시         요일            시군구       사고내용       사망자수       중상자수   \n",
       "1  2014년 1월 1일 00시        수요일  서울특별시 구로구 오류동     부상신고사고          0          0   \n",
       "2  2014년 1월 1일 01시        수요일  서울특별시 성동구 마장동       중상사고          0          1   \n",
       "3  2014년 1월 1일 02시        수요일  서울특별시 광진구 광장동       중상사고          0          1   \n",
       "4  2014년 1월 1일 02시        수요일  서울특별시 구로구 개봉동       경상사고          0          0   \n",
       "\n",
       "  Unnamed: 7 Unnamed: 8      Unnamed: 9  ... Unnamed: 12 Unnamed: 13  \\\n",
       "0       경상자수     부상신고자수            사고유형  ...        기상상태        도로형태   \n",
       "1          0          2        차대차 - 기타  ...          맑음    단일로 - 기타   \n",
       "2          3          0        차대차 - 기타  ...          맑음    단일로 - 기타   \n",
       "3          0          4  차대차 - 추돌 - 진행중  ...          맑음    단일로 - 기타   \n",
       "4          2          0        차대차 - 기타  ...          맑음    단일로 - 기타   \n",
       "\n",
       "  Unnamed: 14 Unnamed: 15 Unnamed: 16 Unnamed: 17 Unnamed: 18 Unnamed: 19  \\\n",
       "0    가해운전자 차종    가해운전자 성별    가해운전자 연령  가해운전자 상해정도    피해운전자 차종    피해운전자 성별   \n",
       "1          승용           남         31세        상해없음          승용           남   \n",
       "2          승용           남         32세        상해없음          승용           남   \n",
       "3          승용           남         26세        상해없음          승용           여   \n",
       "4          승용           남         29세        상해없음          승용           남   \n",
       "\n",
       "  Unnamed: 20 Unnamed: 21  \n",
       "0    피해운전자 연령  피해운전자 상해정도  \n",
       "1         65세        부상신고  \n",
       "2         54세          중상  \n",
       "3         26세        부상신고  \n",
       "4         25세          경상  \n",
       "\n",
       "[5 rows x 22 columns]"
      ]
     },
     "execution_count": 6,
     "metadata": {},
     "output_type": "execute_result"
    }
   ],
   "source": [
    "raw_data14.head()"
   ]
  },
  {
   "cell_type": "code",
   "execution_count": 7,
   "metadata": {},
   "outputs": [],
   "source": [
    "# 첫 줄 삭제\n",
    "data14 = raw_data14.copy()\n",
    "data14.columns = data14.iloc[0]\n",
    "data14 = data14.drop(index=0).reset_index(drop=True)"
   ]
  },
  {
   "cell_type": "code",
   "execution_count": 9,
   "metadata": {},
   "outputs": [],
   "source": [
    "data17 = raw_data17.copy()\n",
    "data17.columns = data17.iloc[0]\n",
    "data17 = data17.drop(index=0).reset_index(drop=True)\n",
    "data20 = raw_data20.copy()\n",
    "data20.columns = data20.iloc[0]\n",
    "data20 = data20.drop(index=0).reset_index(drop=True)\n",
    "data23 = raw_data23.copy()\n",
    "data23.columns = data23.iloc[0]\n",
    "data23 = data23.drop(index=0).reset_index(drop=True)"
   ]
  },
  {
   "cell_type": "code",
   "execution_count": 10,
   "metadata": {},
   "outputs": [],
   "source": [
    "# 4개의 데이터프레임을 하나로 합치기\n",
    "data = pd.concat([data14, data17, data20, data23], ignore_index=True)\n"
   ]
  },
  {
   "cell_type": "code",
   "execution_count": 11,
   "metadata": {},
   "outputs": [
    {
     "data": {
      "text/html": [
       "<div>\n",
       "<style scoped>\n",
       "    .dataframe tbody tr th:only-of-type {\n",
       "        vertical-align: middle;\n",
       "    }\n",
       "\n",
       "    .dataframe tbody tr th {\n",
       "        vertical-align: top;\n",
       "    }\n",
       "\n",
       "    .dataframe thead th {\n",
       "        text-align: right;\n",
       "    }\n",
       "</style>\n",
       "<table border=\"1\" class=\"dataframe\">\n",
       "  <thead>\n",
       "    <tr style=\"text-align: right;\">\n",
       "      <th></th>\n",
       "      <th>사고번호</th>\n",
       "      <th>사고일시</th>\n",
       "      <th>요일</th>\n",
       "      <th>시군구</th>\n",
       "      <th>사고내용</th>\n",
       "      <th>사망자수</th>\n",
       "      <th>중상자수</th>\n",
       "      <th>경상자수</th>\n",
       "      <th>부상신고자수</th>\n",
       "      <th>사고유형</th>\n",
       "      <th>...</th>\n",
       "      <th>기상상태</th>\n",
       "      <th>도로형태</th>\n",
       "      <th>가해운전자 차종</th>\n",
       "      <th>가해운전자 성별</th>\n",
       "      <th>가해운전자 연령</th>\n",
       "      <th>가해운전자 상해정도</th>\n",
       "      <th>피해운전자 차종</th>\n",
       "      <th>피해운전자 성별</th>\n",
       "      <th>피해운전자 연령</th>\n",
       "      <th>피해운전자 상해정도</th>\n",
       "    </tr>\n",
       "  </thead>\n",
       "  <tbody>\n",
       "    <tr>\n",
       "      <th>0</th>\n",
       "      <td>2014010100100005</td>\n",
       "      <td>2014년 1월 1일 00시</td>\n",
       "      <td>수요일</td>\n",
       "      <td>서울특별시 구로구 오류동</td>\n",
       "      <td>부상신고사고</td>\n",
       "      <td>0</td>\n",
       "      <td>0</td>\n",
       "      <td>0</td>\n",
       "      <td>2</td>\n",
       "      <td>차대차 - 기타</td>\n",
       "      <td>...</td>\n",
       "      <td>맑음</td>\n",
       "      <td>단일로 - 기타</td>\n",
       "      <td>승용</td>\n",
       "      <td>남</td>\n",
       "      <td>31세</td>\n",
       "      <td>상해없음</td>\n",
       "      <td>승용</td>\n",
       "      <td>남</td>\n",
       "      <td>65세</td>\n",
       "      <td>부상신고</td>\n",
       "    </tr>\n",
       "    <tr>\n",
       "      <th>1</th>\n",
       "      <td>2014010100100029</td>\n",
       "      <td>2014년 1월 1일 01시</td>\n",
       "      <td>수요일</td>\n",
       "      <td>서울특별시 성동구 마장동</td>\n",
       "      <td>중상사고</td>\n",
       "      <td>0</td>\n",
       "      <td>1</td>\n",
       "      <td>3</td>\n",
       "      <td>0</td>\n",
       "      <td>차대차 - 기타</td>\n",
       "      <td>...</td>\n",
       "      <td>맑음</td>\n",
       "      <td>단일로 - 기타</td>\n",
       "      <td>승용</td>\n",
       "      <td>남</td>\n",
       "      <td>32세</td>\n",
       "      <td>상해없음</td>\n",
       "      <td>승용</td>\n",
       "      <td>남</td>\n",
       "      <td>54세</td>\n",
       "      <td>중상</td>\n",
       "    </tr>\n",
       "    <tr>\n",
       "      <th>2</th>\n",
       "      <td>2014010100100050</td>\n",
       "      <td>2014년 1월 1일 02시</td>\n",
       "      <td>수요일</td>\n",
       "      <td>서울특별시 광진구 광장동</td>\n",
       "      <td>중상사고</td>\n",
       "      <td>0</td>\n",
       "      <td>1</td>\n",
       "      <td>0</td>\n",
       "      <td>4</td>\n",
       "      <td>차대차 - 추돌 - 진행중</td>\n",
       "      <td>...</td>\n",
       "      <td>맑음</td>\n",
       "      <td>단일로 - 기타</td>\n",
       "      <td>승용</td>\n",
       "      <td>남</td>\n",
       "      <td>26세</td>\n",
       "      <td>상해없음</td>\n",
       "      <td>승용</td>\n",
       "      <td>여</td>\n",
       "      <td>26세</td>\n",
       "      <td>부상신고</td>\n",
       "    </tr>\n",
       "    <tr>\n",
       "      <th>3</th>\n",
       "      <td>2014010100100053</td>\n",
       "      <td>2014년 1월 1일 02시</td>\n",
       "      <td>수요일</td>\n",
       "      <td>서울특별시 구로구 개봉동</td>\n",
       "      <td>경상사고</td>\n",
       "      <td>0</td>\n",
       "      <td>0</td>\n",
       "      <td>2</td>\n",
       "      <td>0</td>\n",
       "      <td>차대차 - 기타</td>\n",
       "      <td>...</td>\n",
       "      <td>맑음</td>\n",
       "      <td>단일로 - 기타</td>\n",
       "      <td>승용</td>\n",
       "      <td>남</td>\n",
       "      <td>29세</td>\n",
       "      <td>상해없음</td>\n",
       "      <td>승용</td>\n",
       "      <td>남</td>\n",
       "      <td>25세</td>\n",
       "      <td>경상</td>\n",
       "    </tr>\n",
       "    <tr>\n",
       "      <th>4</th>\n",
       "      <td>2014010100100054</td>\n",
       "      <td>2014년 1월 1일 02시</td>\n",
       "      <td>수요일</td>\n",
       "      <td>서울특별시 양천구 목동</td>\n",
       "      <td>경상사고</td>\n",
       "      <td>0</td>\n",
       "      <td>0</td>\n",
       "      <td>2</td>\n",
       "      <td>0</td>\n",
       "      <td>차대차 - 측면직각충돌</td>\n",
       "      <td>...</td>\n",
       "      <td>맑음</td>\n",
       "      <td>교차로 - 교차로안</td>\n",
       "      <td>승용</td>\n",
       "      <td>여</td>\n",
       "      <td>42세</td>\n",
       "      <td>상해없음</td>\n",
       "      <td>승용</td>\n",
       "      <td>남</td>\n",
       "      <td>37세</td>\n",
       "      <td>경상</td>\n",
       "    </tr>\n",
       "  </tbody>\n",
       "</table>\n",
       "<p>5 rows × 22 columns</p>\n",
       "</div>"
      ],
      "text/plain": [
       "0              사고번호             사고일시   요일            시군구    사고내용 사망자수 중상자수  \\\n",
       "0  2014010100100005  2014년 1월 1일 00시  수요일  서울특별시 구로구 오류동  부상신고사고    0    0   \n",
       "1  2014010100100029  2014년 1월 1일 01시  수요일  서울특별시 성동구 마장동    중상사고    0    1   \n",
       "2  2014010100100050  2014년 1월 1일 02시  수요일  서울특별시 광진구 광장동    중상사고    0    1   \n",
       "3  2014010100100053  2014년 1월 1일 02시  수요일  서울특별시 구로구 개봉동    경상사고    0    0   \n",
       "4  2014010100100054  2014년 1월 1일 02시  수요일   서울특별시 양천구 목동    경상사고    0    0   \n",
       "\n",
       "0 경상자수 부상신고자수            사고유형  ... 기상상태        도로형태 가해운전자 차종 가해운전자 성별  \\\n",
       "0    0      2        차대차 - 기타  ...   맑음    단일로 - 기타       승용        남   \n",
       "1    3      0        차대차 - 기타  ...   맑음    단일로 - 기타       승용        남   \n",
       "2    0      4  차대차 - 추돌 - 진행중  ...   맑음    단일로 - 기타       승용        남   \n",
       "3    2      0        차대차 - 기타  ...   맑음    단일로 - 기타       승용        남   \n",
       "4    2      0    차대차 - 측면직각충돌  ...   맑음  교차로 - 교차로안       승용        여   \n",
       "\n",
       "0 가해운전자 연령 가해운전자 상해정도 피해운전자 차종 피해운전자 성별 피해운전자 연령 피해운전자 상해정도  \n",
       "0      31세       상해없음       승용        남      65세       부상신고  \n",
       "1      32세       상해없음       승용        남      54세         중상  \n",
       "2      26세       상해없음       승용        여      26세       부상신고  \n",
       "3      29세       상해없음       승용        남      25세         경상  \n",
       "4      42세       상해없음       승용        남      37세         경상  \n",
       "\n",
       "[5 rows x 22 columns]"
      ]
     },
     "execution_count": 11,
     "metadata": {},
     "output_type": "execute_result"
    }
   ],
   "source": [
    "data.head()"
   ]
  },
  {
   "cell_type": "code",
   "execution_count": 12,
   "metadata": {},
   "outputs": [],
   "source": [
    "data.to_csv('accident.csv', index=False)"
   ]
  },
  {
   "cell_type": "markdown",
   "metadata": {},
   "source": [
    "### 데이터 전처리\n",
    " * '사고 번호' 열 삭제\n",
    " * '사고 일시' ->datatime으로 변경\n",
    " * '사고 일시' -> 일자와 시간 열로\n",
    " * '시군구' 열 삭제\n",
    " * '사고 내용' 삭제\n",
    " * 사망자 수, 중상자 수, 경상자 수, 부상신고자 수 열 삭제\n",
    " * 사고 유형 split\n",
    " * 법규위반 열 삭제\n",
    " * 도로형태 split\n",
    " * 가해운전자 차종 승용 = 승용+승합, 화물 = 화물+건설기계, 보행자, 이륜 = 원동기+이륜차, 자전거 = 자전거 + 킥보드 만 남기기\n",
    " * 가해운전자 성별 열 삭제\n",
    " * 가해운전자 나이 숫자만 남기기 + int형으로\n",
    " * 피해운전자 차종 승용 = 승용+승합, 화물 = 화물+건설기계, 보행자, 이륜 = 원동기+이륜차, 자전거 = 자전거 + 킥보드 만 남기기\n",
    " * 피해운전자 상해정도 기타불명, 미분류 삭제\n",
    " * csv 파일 생성\n",
    " * 범주형 데이터들 모두 숫자로 변경"
   ]
  },
  {
   "cell_type": "code",
   "execution_count": 306,
   "metadata": {},
   "outputs": [],
   "source": [
    "data = pd.read_csv('accident.csv')"
   ]
  },
  {
   "cell_type": "code",
   "execution_count": 307,
   "metadata": {},
   "outputs": [],
   "source": [
    "data = data.drop(columns=['사고번호', '시군구', '사고내용', '사망자수', '중상자수', '경상자수', '부상신고자수', '법규위반', '가해운전자 성별'])"
   ]
  },
  {
   "cell_type": "code",
   "execution_count": 308,
   "metadata": {},
   "outputs": [
    {
     "data": {
      "text/html": [
       "<div>\n",
       "<style scoped>\n",
       "    .dataframe tbody tr th:only-of-type {\n",
       "        vertical-align: middle;\n",
       "    }\n",
       "\n",
       "    .dataframe tbody tr th {\n",
       "        vertical-align: top;\n",
       "    }\n",
       "\n",
       "    .dataframe thead th {\n",
       "        text-align: right;\n",
       "    }\n",
       "</style>\n",
       "<table border=\"1\" class=\"dataframe\">\n",
       "  <thead>\n",
       "    <tr style=\"text-align: right;\">\n",
       "      <th></th>\n",
       "      <th>사고일시</th>\n",
       "      <th>요일</th>\n",
       "      <th>사고유형</th>\n",
       "      <th>노면상태</th>\n",
       "      <th>기상상태</th>\n",
       "      <th>도로형태</th>\n",
       "      <th>가해운전자 차종</th>\n",
       "      <th>가해운전자 연령</th>\n",
       "      <th>가해운전자 상해정도</th>\n",
       "      <th>피해운전자 차종</th>\n",
       "      <th>피해운전자 성별</th>\n",
       "      <th>피해운전자 연령</th>\n",
       "      <th>피해운전자 상해정도</th>\n",
       "    </tr>\n",
       "  </thead>\n",
       "  <tbody>\n",
       "    <tr>\n",
       "      <th>0</th>\n",
       "      <td>2014년 1월 1일 00시</td>\n",
       "      <td>수요일</td>\n",
       "      <td>차대차 - 기타</td>\n",
       "      <td>건조</td>\n",
       "      <td>맑음</td>\n",
       "      <td>단일로 - 기타</td>\n",
       "      <td>승용</td>\n",
       "      <td>31세</td>\n",
       "      <td>상해없음</td>\n",
       "      <td>승용</td>\n",
       "      <td>남</td>\n",
       "      <td>65세</td>\n",
       "      <td>부상신고</td>\n",
       "    </tr>\n",
       "    <tr>\n",
       "      <th>1</th>\n",
       "      <td>2014년 1월 1일 01시</td>\n",
       "      <td>수요일</td>\n",
       "      <td>차대차 - 기타</td>\n",
       "      <td>기타</td>\n",
       "      <td>맑음</td>\n",
       "      <td>단일로 - 기타</td>\n",
       "      <td>승용</td>\n",
       "      <td>32세</td>\n",
       "      <td>상해없음</td>\n",
       "      <td>승용</td>\n",
       "      <td>남</td>\n",
       "      <td>54세</td>\n",
       "      <td>중상</td>\n",
       "    </tr>\n",
       "    <tr>\n",
       "      <th>2</th>\n",
       "      <td>2014년 1월 1일 02시</td>\n",
       "      <td>수요일</td>\n",
       "      <td>차대차 - 추돌 - 진행중</td>\n",
       "      <td>건조</td>\n",
       "      <td>맑음</td>\n",
       "      <td>단일로 - 기타</td>\n",
       "      <td>승용</td>\n",
       "      <td>26세</td>\n",
       "      <td>상해없음</td>\n",
       "      <td>승용</td>\n",
       "      <td>여</td>\n",
       "      <td>26세</td>\n",
       "      <td>부상신고</td>\n",
       "    </tr>\n",
       "    <tr>\n",
       "      <th>3</th>\n",
       "      <td>2014년 1월 1일 02시</td>\n",
       "      <td>수요일</td>\n",
       "      <td>차대차 - 기타</td>\n",
       "      <td>건조</td>\n",
       "      <td>맑음</td>\n",
       "      <td>단일로 - 기타</td>\n",
       "      <td>승용</td>\n",
       "      <td>29세</td>\n",
       "      <td>상해없음</td>\n",
       "      <td>승용</td>\n",
       "      <td>남</td>\n",
       "      <td>25세</td>\n",
       "      <td>경상</td>\n",
       "    </tr>\n",
       "    <tr>\n",
       "      <th>4</th>\n",
       "      <td>2014년 1월 1일 02시</td>\n",
       "      <td>수요일</td>\n",
       "      <td>차대차 - 측면직각충돌</td>\n",
       "      <td>건조</td>\n",
       "      <td>맑음</td>\n",
       "      <td>교차로 - 교차로안</td>\n",
       "      <td>승용</td>\n",
       "      <td>42세</td>\n",
       "      <td>상해없음</td>\n",
       "      <td>승용</td>\n",
       "      <td>남</td>\n",
       "      <td>37세</td>\n",
       "      <td>경상</td>\n",
       "    </tr>\n",
       "  </tbody>\n",
       "</table>\n",
       "</div>"
      ],
      "text/plain": [
       "              사고일시   요일            사고유형 노면상태 기상상태        도로형태 가해운전자 차종  \\\n",
       "0  2014년 1월 1일 00시  수요일        차대차 - 기타   건조   맑음    단일로 - 기타       승용   \n",
       "1  2014년 1월 1일 01시  수요일        차대차 - 기타   기타   맑음    단일로 - 기타       승용   \n",
       "2  2014년 1월 1일 02시  수요일  차대차 - 추돌 - 진행중   건조   맑음    단일로 - 기타       승용   \n",
       "3  2014년 1월 1일 02시  수요일        차대차 - 기타   건조   맑음    단일로 - 기타       승용   \n",
       "4  2014년 1월 1일 02시  수요일    차대차 - 측면직각충돌   건조   맑음  교차로 - 교차로안       승용   \n",
       "\n",
       "  가해운전자 연령 가해운전자 상해정도 피해운전자 차종 피해운전자 성별 피해운전자 연령 피해운전자 상해정도  \n",
       "0      31세       상해없음       승용        남      65세       부상신고  \n",
       "1      32세       상해없음       승용        남      54세         중상  \n",
       "2      26세       상해없음       승용        여      26세       부상신고  \n",
       "3      29세       상해없음       승용        남      25세         경상  \n",
       "4      42세       상해없음       승용        남      37세         경상  "
      ]
     },
     "execution_count": 308,
     "metadata": {},
     "output_type": "execute_result"
    }
   ],
   "source": [
    "data.head()"
   ]
  },
  {
   "cell_type": "code",
   "execution_count": 309,
   "metadata": {},
   "outputs": [
    {
     "name": "stdout",
     "output_type": "stream",
     "text": [
      "<class 'pandas.core.frame.DataFrame'>\n",
      "RangeIndex: 26270 entries, 0 to 26269\n",
      "Data columns (total 13 columns):\n",
      " #   Column      Non-Null Count  Dtype \n",
      "---  ------      --------------  ----- \n",
      " 0   사고일시        26270 non-null  object\n",
      " 1   요일          26270 non-null  object\n",
      " 2   사고유형        26270 non-null  object\n",
      " 3   노면상태        26270 non-null  object\n",
      " 4   기상상태        26270 non-null  object\n",
      " 5   도로형태        26270 non-null  object\n",
      " 6   가해운전자 차종    26270 non-null  object\n",
      " 7   가해운전자 연령    26270 non-null  object\n",
      " 8   가해운전자 상해정도  26270 non-null  object\n",
      " 9   피해운전자 차종    24900 non-null  object\n",
      " 10  피해운전자 성별    24900 non-null  object\n",
      " 11  피해운전자 연령    24900 non-null  object\n",
      " 12  피해운전자 상해정도  24900 non-null  object\n",
      "dtypes: object(13)\n",
      "memory usage: 2.6+ MB\n"
     ]
    }
   ],
   "source": [
    "data.info()"
   ]
  },
  {
   "cell_type": "code",
   "execution_count": 310,
   "metadata": {},
   "outputs": [],
   "source": [
    "data['사고일시'] = pd.to_datetime(data['사고일시'], format='%Y년 %m월 %d일 %H시')\n",
    "data['사고날짜'] = data['사고일시'].dt.date\n",
    "data['사고시간'] = data['사고일시'].dt.time"
   ]
  },
  {
   "cell_type": "code",
   "execution_count": 311,
   "metadata": {},
   "outputs": [
    {
     "data": {
      "text/html": [
       "<div>\n",
       "<style scoped>\n",
       "    .dataframe tbody tr th:only-of-type {\n",
       "        vertical-align: middle;\n",
       "    }\n",
       "\n",
       "    .dataframe tbody tr th {\n",
       "        vertical-align: top;\n",
       "    }\n",
       "\n",
       "    .dataframe thead th {\n",
       "        text-align: right;\n",
       "    }\n",
       "</style>\n",
       "<table border=\"1\" class=\"dataframe\">\n",
       "  <thead>\n",
       "    <tr style=\"text-align: right;\">\n",
       "      <th></th>\n",
       "      <th>사고일시</th>\n",
       "      <th>요일</th>\n",
       "      <th>사고유형</th>\n",
       "      <th>노면상태</th>\n",
       "      <th>기상상태</th>\n",
       "      <th>도로형태</th>\n",
       "      <th>가해운전자 차종</th>\n",
       "      <th>가해운전자 연령</th>\n",
       "      <th>가해운전자 상해정도</th>\n",
       "      <th>피해운전자 차종</th>\n",
       "      <th>피해운전자 성별</th>\n",
       "      <th>피해운전자 연령</th>\n",
       "      <th>피해운전자 상해정도</th>\n",
       "      <th>사고날짜</th>\n",
       "      <th>사고시간</th>\n",
       "    </tr>\n",
       "  </thead>\n",
       "  <tbody>\n",
       "    <tr>\n",
       "      <th>0</th>\n",
       "      <td>2014-01-01 00:00:00</td>\n",
       "      <td>수요일</td>\n",
       "      <td>차대차 - 기타</td>\n",
       "      <td>건조</td>\n",
       "      <td>맑음</td>\n",
       "      <td>단일로 - 기타</td>\n",
       "      <td>승용</td>\n",
       "      <td>31세</td>\n",
       "      <td>상해없음</td>\n",
       "      <td>승용</td>\n",
       "      <td>남</td>\n",
       "      <td>65세</td>\n",
       "      <td>부상신고</td>\n",
       "      <td>2014-01-01</td>\n",
       "      <td>00:00:00</td>\n",
       "    </tr>\n",
       "    <tr>\n",
       "      <th>1</th>\n",
       "      <td>2014-01-01 01:00:00</td>\n",
       "      <td>수요일</td>\n",
       "      <td>차대차 - 기타</td>\n",
       "      <td>기타</td>\n",
       "      <td>맑음</td>\n",
       "      <td>단일로 - 기타</td>\n",
       "      <td>승용</td>\n",
       "      <td>32세</td>\n",
       "      <td>상해없음</td>\n",
       "      <td>승용</td>\n",
       "      <td>남</td>\n",
       "      <td>54세</td>\n",
       "      <td>중상</td>\n",
       "      <td>2014-01-01</td>\n",
       "      <td>01:00:00</td>\n",
       "    </tr>\n",
       "    <tr>\n",
       "      <th>2</th>\n",
       "      <td>2014-01-01 02:00:00</td>\n",
       "      <td>수요일</td>\n",
       "      <td>차대차 - 추돌 - 진행중</td>\n",
       "      <td>건조</td>\n",
       "      <td>맑음</td>\n",
       "      <td>단일로 - 기타</td>\n",
       "      <td>승용</td>\n",
       "      <td>26세</td>\n",
       "      <td>상해없음</td>\n",
       "      <td>승용</td>\n",
       "      <td>여</td>\n",
       "      <td>26세</td>\n",
       "      <td>부상신고</td>\n",
       "      <td>2014-01-01</td>\n",
       "      <td>02:00:00</td>\n",
       "    </tr>\n",
       "    <tr>\n",
       "      <th>3</th>\n",
       "      <td>2014-01-01 02:00:00</td>\n",
       "      <td>수요일</td>\n",
       "      <td>차대차 - 기타</td>\n",
       "      <td>건조</td>\n",
       "      <td>맑음</td>\n",
       "      <td>단일로 - 기타</td>\n",
       "      <td>승용</td>\n",
       "      <td>29세</td>\n",
       "      <td>상해없음</td>\n",
       "      <td>승용</td>\n",
       "      <td>남</td>\n",
       "      <td>25세</td>\n",
       "      <td>경상</td>\n",
       "      <td>2014-01-01</td>\n",
       "      <td>02:00:00</td>\n",
       "    </tr>\n",
       "    <tr>\n",
       "      <th>4</th>\n",
       "      <td>2014-01-01 02:00:00</td>\n",
       "      <td>수요일</td>\n",
       "      <td>차대차 - 측면직각충돌</td>\n",
       "      <td>건조</td>\n",
       "      <td>맑음</td>\n",
       "      <td>교차로 - 교차로안</td>\n",
       "      <td>승용</td>\n",
       "      <td>42세</td>\n",
       "      <td>상해없음</td>\n",
       "      <td>승용</td>\n",
       "      <td>남</td>\n",
       "      <td>37세</td>\n",
       "      <td>경상</td>\n",
       "      <td>2014-01-01</td>\n",
       "      <td>02:00:00</td>\n",
       "    </tr>\n",
       "  </tbody>\n",
       "</table>\n",
       "</div>"
      ],
      "text/plain": [
       "                 사고일시   요일            사고유형 노면상태 기상상태        도로형태 가해운전자 차종  \\\n",
       "0 2014-01-01 00:00:00  수요일        차대차 - 기타   건조   맑음    단일로 - 기타       승용   \n",
       "1 2014-01-01 01:00:00  수요일        차대차 - 기타   기타   맑음    단일로 - 기타       승용   \n",
       "2 2014-01-01 02:00:00  수요일  차대차 - 추돌 - 진행중   건조   맑음    단일로 - 기타       승용   \n",
       "3 2014-01-01 02:00:00  수요일        차대차 - 기타   건조   맑음    단일로 - 기타       승용   \n",
       "4 2014-01-01 02:00:00  수요일    차대차 - 측면직각충돌   건조   맑음  교차로 - 교차로안       승용   \n",
       "\n",
       "  가해운전자 연령 가해운전자 상해정도 피해운전자 차종 피해운전자 성별 피해운전자 연령 피해운전자 상해정도        사고날짜  \\\n",
       "0      31세       상해없음       승용        남      65세       부상신고  2014-01-01   \n",
       "1      32세       상해없음       승용        남      54세         중상  2014-01-01   \n",
       "2      26세       상해없음       승용        여      26세       부상신고  2014-01-01   \n",
       "3      29세       상해없음       승용        남      25세         경상  2014-01-01   \n",
       "4      42세       상해없음       승용        남      37세         경상  2014-01-01   \n",
       "\n",
       "       사고시간  \n",
       "0  00:00:00  \n",
       "1  01:00:00  \n",
       "2  02:00:00  \n",
       "3  02:00:00  \n",
       "4  02:00:00  "
      ]
     },
     "execution_count": 311,
     "metadata": {},
     "output_type": "execute_result"
    }
   ],
   "source": [
    "data.head()"
   ]
  },
  {
   "cell_type": "code",
   "execution_count": 312,
   "metadata": {},
   "outputs": [],
   "source": [
    "data['사고유형'] = data['사고유형'].apply(lambda x: x.split()[0])"
   ]
  },
  {
   "cell_type": "code",
   "execution_count": 313,
   "metadata": {},
   "outputs": [
    {
     "data": {
      "text/html": [
       "<div>\n",
       "<style scoped>\n",
       "    .dataframe tbody tr th:only-of-type {\n",
       "        vertical-align: middle;\n",
       "    }\n",
       "\n",
       "    .dataframe tbody tr th {\n",
       "        vertical-align: top;\n",
       "    }\n",
       "\n",
       "    .dataframe thead th {\n",
       "        text-align: right;\n",
       "    }\n",
       "</style>\n",
       "<table border=\"1\" class=\"dataframe\">\n",
       "  <thead>\n",
       "    <tr style=\"text-align: right;\">\n",
       "      <th></th>\n",
       "      <th>사고일시</th>\n",
       "      <th>요일</th>\n",
       "      <th>사고유형</th>\n",
       "      <th>노면상태</th>\n",
       "      <th>기상상태</th>\n",
       "      <th>도로형태</th>\n",
       "      <th>가해운전자 차종</th>\n",
       "      <th>가해운전자 연령</th>\n",
       "      <th>가해운전자 상해정도</th>\n",
       "      <th>피해운전자 차종</th>\n",
       "      <th>피해운전자 성별</th>\n",
       "      <th>피해운전자 연령</th>\n",
       "      <th>피해운전자 상해정도</th>\n",
       "      <th>사고날짜</th>\n",
       "      <th>사고시간</th>\n",
       "    </tr>\n",
       "  </thead>\n",
       "  <tbody>\n",
       "    <tr>\n",
       "      <th>0</th>\n",
       "      <td>2014-01-01</td>\n",
       "      <td>수요일</td>\n",
       "      <td>차대차</td>\n",
       "      <td>건조</td>\n",
       "      <td>맑음</td>\n",
       "      <td>단일로 - 기타</td>\n",
       "      <td>승용</td>\n",
       "      <td>31세</td>\n",
       "      <td>상해없음</td>\n",
       "      <td>승용</td>\n",
       "      <td>남</td>\n",
       "      <td>65세</td>\n",
       "      <td>부상신고</td>\n",
       "      <td>2014-01-01</td>\n",
       "      <td>00:00:00</td>\n",
       "    </tr>\n",
       "  </tbody>\n",
       "</table>\n",
       "</div>"
      ],
      "text/plain": [
       "        사고일시   요일 사고유형 노면상태 기상상태      도로형태 가해운전자 차종 가해운전자 연령 가해운전자 상해정도  \\\n",
       "0 2014-01-01  수요일  차대차   건조   맑음  단일로 - 기타       승용      31세       상해없음   \n",
       "\n",
       "  피해운전자 차종 피해운전자 성별 피해운전자 연령 피해운전자 상해정도        사고날짜      사고시간  \n",
       "0       승용        남      65세       부상신고  2014-01-01  00:00:00  "
      ]
     },
     "execution_count": 313,
     "metadata": {},
     "output_type": "execute_result"
    }
   ],
   "source": [
    "data.head(1)"
   ]
  },
  {
   "cell_type": "code",
   "execution_count": 314,
   "metadata": {},
   "outputs": [
    {
     "data": {
      "text/plain": [
       "사고유형\n",
       "차대차     22510\n",
       "차대사람     2322\n",
       "차량단독     1438\n",
       "Name: count, dtype: int64"
      ]
     },
     "execution_count": 314,
     "metadata": {},
     "output_type": "execute_result"
    }
   ],
   "source": [
    "data['사고유형'].value_counts()"
   ]
  },
  {
   "cell_type": "code",
   "execution_count": 315,
   "metadata": {},
   "outputs": [],
   "source": [
    "data['도로형태'] = data['도로형태'].apply(lambda x: x.split()[0])"
   ]
  },
  {
   "cell_type": "code",
   "execution_count": 316,
   "metadata": {},
   "outputs": [
    {
     "data": {
      "text/html": [
       "<div>\n",
       "<style scoped>\n",
       "    .dataframe tbody tr th:only-of-type {\n",
       "        vertical-align: middle;\n",
       "    }\n",
       "\n",
       "    .dataframe tbody tr th {\n",
       "        vertical-align: top;\n",
       "    }\n",
       "\n",
       "    .dataframe thead th {\n",
       "        text-align: right;\n",
       "    }\n",
       "</style>\n",
       "<table border=\"1\" class=\"dataframe\">\n",
       "  <thead>\n",
       "    <tr style=\"text-align: right;\">\n",
       "      <th></th>\n",
       "      <th>사고일시</th>\n",
       "      <th>요일</th>\n",
       "      <th>사고유형</th>\n",
       "      <th>노면상태</th>\n",
       "      <th>기상상태</th>\n",
       "      <th>도로형태</th>\n",
       "      <th>가해운전자 차종</th>\n",
       "      <th>가해운전자 연령</th>\n",
       "      <th>가해운전자 상해정도</th>\n",
       "      <th>피해운전자 차종</th>\n",
       "      <th>피해운전자 성별</th>\n",
       "      <th>피해운전자 연령</th>\n",
       "      <th>피해운전자 상해정도</th>\n",
       "      <th>사고날짜</th>\n",
       "      <th>사고시간</th>\n",
       "    </tr>\n",
       "  </thead>\n",
       "  <tbody>\n",
       "    <tr>\n",
       "      <th>0</th>\n",
       "      <td>2014-01-01</td>\n",
       "      <td>수요일</td>\n",
       "      <td>차대차</td>\n",
       "      <td>건조</td>\n",
       "      <td>맑음</td>\n",
       "      <td>단일로</td>\n",
       "      <td>승용</td>\n",
       "      <td>31세</td>\n",
       "      <td>상해없음</td>\n",
       "      <td>승용</td>\n",
       "      <td>남</td>\n",
       "      <td>65세</td>\n",
       "      <td>부상신고</td>\n",
       "      <td>2014-01-01</td>\n",
       "      <td>00:00:00</td>\n",
       "    </tr>\n",
       "  </tbody>\n",
       "</table>\n",
       "</div>"
      ],
      "text/plain": [
       "        사고일시   요일 사고유형 노면상태 기상상태 도로형태 가해운전자 차종 가해운전자 연령 가해운전자 상해정도 피해운전자 차종  \\\n",
       "0 2014-01-01  수요일  차대차   건조   맑음  단일로       승용      31세       상해없음       승용   \n",
       "\n",
       "  피해운전자 성별 피해운전자 연령 피해운전자 상해정도        사고날짜      사고시간  \n",
       "0        남      65세       부상신고  2014-01-01  00:00:00  "
      ]
     },
     "execution_count": 316,
     "metadata": {},
     "output_type": "execute_result"
    }
   ],
   "source": [
    "data.head(1)"
   ]
  },
  {
   "cell_type": "code",
   "execution_count": 317,
   "metadata": {},
   "outputs": [
    {
     "data": {
      "text/plain": [
       "도로형태\n",
       "단일로    15593\n",
       "교차로     9419\n",
       "기타      1154\n",
       "미분류       75\n",
       "주차장       29\n",
       "Name: count, dtype: int64"
      ]
     },
     "execution_count": 317,
     "metadata": {},
     "output_type": "execute_result"
    }
   ],
   "source": [
    "data['도로형태'].value_counts()"
   ]
  },
  {
   "cell_type": "code",
   "execution_count": 318,
   "metadata": {},
   "outputs": [],
   "source": [
    "data['가해운전자 차종'] = data['가해운전자 차종'].replace('승합', '승용')\n",
    "data['가해운전자 차종'] = data['가해운전자 차종'].replace('건설기계', '화물')\n",
    "data['가해운전자 차종'] = data['가해운전자 차종'].replace('원동기', '이륜')\n",
    "data['가해운전자 차종'] = data['가해운전자 차종'].replace('개인형이동수단(PM)', '자전거')\n",
    "\n",
    "valid = ['승용', '화물', '보행자', '이륜', '자전거']\n",
    "data = data[data['가해운전자 차종'].isin(valid)]\n"
   ]
  },
  {
   "cell_type": "code",
   "execution_count": 319,
   "metadata": {},
   "outputs": [
    {
     "data": {
      "text/plain": [
       "사고유형\n",
       "차대차     22500\n",
       "차대사람     2321\n",
       "차량단독     1433\n",
       "Name: count, dtype: int64"
      ]
     },
     "execution_count": 319,
     "metadata": {},
     "output_type": "execute_result"
    }
   ],
   "source": [
    "data['사고유형'].value_counts()"
   ]
  },
  {
   "cell_type": "code",
   "execution_count": 320,
   "metadata": {},
   "outputs": [],
   "source": [
    "data['피해운전자 차종'] = data['피해운전자 차종'].replace('승합', '승용')\n",
    "data['피해운전자 차종'] = data['피해운전자 차종'].replace('건설기계', '화물')\n",
    "data['피해운전자 차종'] = data['피해운전자 차종'].replace('원동기', '이륜')\n",
    "data['피해운전자 차종'] = data['피해운전자 차종'].replace('개인형이동수단(PM)', '자전거')\n",
    "\n",
    "data = data[~data['피해운전자 차종'].isin(['특수', '기타불명','사륜오토바이(ATV)','농기계'])]"
   ]
  },
  {
   "cell_type": "code",
   "execution_count": 321,
   "metadata": {},
   "outputs": [
    {
     "data": {
      "text/plain": [
       "사고유형\n",
       "차대차     22439\n",
       "차대사람     2321\n",
       "차량단독     1433\n",
       "Name: count, dtype: int64"
      ]
     },
     "execution_count": 321,
     "metadata": {},
     "output_type": "execute_result"
    }
   ],
   "source": [
    "data['사고유형'].value_counts()"
   ]
  },
  {
   "cell_type": "code",
   "execution_count": 322,
   "metadata": {},
   "outputs": [],
   "source": [
    "data['가해운전자 연령'] = data['가해운전자 연령'].str.extract(r'(\\d+)').astype(int)"
   ]
  },
  {
   "cell_type": "code",
   "execution_count": 323,
   "metadata": {},
   "outputs": [
    {
     "data": {
      "text/html": [
       "<div>\n",
       "<style scoped>\n",
       "    .dataframe tbody tr th:only-of-type {\n",
       "        vertical-align: middle;\n",
       "    }\n",
       "\n",
       "    .dataframe tbody tr th {\n",
       "        vertical-align: top;\n",
       "    }\n",
       "\n",
       "    .dataframe thead th {\n",
       "        text-align: right;\n",
       "    }\n",
       "</style>\n",
       "<table border=\"1\" class=\"dataframe\">\n",
       "  <thead>\n",
       "    <tr style=\"text-align: right;\">\n",
       "      <th></th>\n",
       "      <th>사고일시</th>\n",
       "      <th>요일</th>\n",
       "      <th>사고유형</th>\n",
       "      <th>노면상태</th>\n",
       "      <th>기상상태</th>\n",
       "      <th>도로형태</th>\n",
       "      <th>가해운전자 차종</th>\n",
       "      <th>가해운전자 연령</th>\n",
       "      <th>가해운전자 상해정도</th>\n",
       "      <th>피해운전자 차종</th>\n",
       "      <th>피해운전자 성별</th>\n",
       "      <th>피해운전자 연령</th>\n",
       "      <th>피해운전자 상해정도</th>\n",
       "      <th>사고날짜</th>\n",
       "      <th>사고시간</th>\n",
       "    </tr>\n",
       "  </thead>\n",
       "  <tbody>\n",
       "    <tr>\n",
       "      <th>0</th>\n",
       "      <td>2014-01-01 00:00:00</td>\n",
       "      <td>수요일</td>\n",
       "      <td>차대차</td>\n",
       "      <td>건조</td>\n",
       "      <td>맑음</td>\n",
       "      <td>단일로</td>\n",
       "      <td>승용</td>\n",
       "      <td>31</td>\n",
       "      <td>상해없음</td>\n",
       "      <td>승용</td>\n",
       "      <td>남</td>\n",
       "      <td>65세</td>\n",
       "      <td>부상신고</td>\n",
       "      <td>2014-01-01</td>\n",
       "      <td>00:00:00</td>\n",
       "    </tr>\n",
       "    <tr>\n",
       "      <th>1</th>\n",
       "      <td>2014-01-01 01:00:00</td>\n",
       "      <td>수요일</td>\n",
       "      <td>차대차</td>\n",
       "      <td>기타</td>\n",
       "      <td>맑음</td>\n",
       "      <td>단일로</td>\n",
       "      <td>승용</td>\n",
       "      <td>32</td>\n",
       "      <td>상해없음</td>\n",
       "      <td>승용</td>\n",
       "      <td>남</td>\n",
       "      <td>54세</td>\n",
       "      <td>중상</td>\n",
       "      <td>2014-01-01</td>\n",
       "      <td>01:00:00</td>\n",
       "    </tr>\n",
       "    <tr>\n",
       "      <th>2</th>\n",
       "      <td>2014-01-01 02:00:00</td>\n",
       "      <td>수요일</td>\n",
       "      <td>차대차</td>\n",
       "      <td>건조</td>\n",
       "      <td>맑음</td>\n",
       "      <td>단일로</td>\n",
       "      <td>승용</td>\n",
       "      <td>26</td>\n",
       "      <td>상해없음</td>\n",
       "      <td>승용</td>\n",
       "      <td>여</td>\n",
       "      <td>26세</td>\n",
       "      <td>부상신고</td>\n",
       "      <td>2014-01-01</td>\n",
       "      <td>02:00:00</td>\n",
       "    </tr>\n",
       "    <tr>\n",
       "      <th>3</th>\n",
       "      <td>2014-01-01 02:00:00</td>\n",
       "      <td>수요일</td>\n",
       "      <td>차대차</td>\n",
       "      <td>건조</td>\n",
       "      <td>맑음</td>\n",
       "      <td>단일로</td>\n",
       "      <td>승용</td>\n",
       "      <td>29</td>\n",
       "      <td>상해없음</td>\n",
       "      <td>승용</td>\n",
       "      <td>남</td>\n",
       "      <td>25세</td>\n",
       "      <td>경상</td>\n",
       "      <td>2014-01-01</td>\n",
       "      <td>02:00:00</td>\n",
       "    </tr>\n",
       "    <tr>\n",
       "      <th>4</th>\n",
       "      <td>2014-01-01 02:00:00</td>\n",
       "      <td>수요일</td>\n",
       "      <td>차대차</td>\n",
       "      <td>건조</td>\n",
       "      <td>맑음</td>\n",
       "      <td>교차로</td>\n",
       "      <td>승용</td>\n",
       "      <td>42</td>\n",
       "      <td>상해없음</td>\n",
       "      <td>승용</td>\n",
       "      <td>남</td>\n",
       "      <td>37세</td>\n",
       "      <td>경상</td>\n",
       "      <td>2014-01-01</td>\n",
       "      <td>02:00:00</td>\n",
       "    </tr>\n",
       "  </tbody>\n",
       "</table>\n",
       "</div>"
      ],
      "text/plain": [
       "                 사고일시   요일 사고유형 노면상태 기상상태 도로형태 가해운전자 차종  가해운전자 연령 가해운전자 상해정도  \\\n",
       "0 2014-01-01 00:00:00  수요일  차대차   건조   맑음  단일로       승용        31       상해없음   \n",
       "1 2014-01-01 01:00:00  수요일  차대차   기타   맑음  단일로       승용        32       상해없음   \n",
       "2 2014-01-01 02:00:00  수요일  차대차   건조   맑음  단일로       승용        26       상해없음   \n",
       "3 2014-01-01 02:00:00  수요일  차대차   건조   맑음  단일로       승용        29       상해없음   \n",
       "4 2014-01-01 02:00:00  수요일  차대차   건조   맑음  교차로       승용        42       상해없음   \n",
       "\n",
       "  피해운전자 차종 피해운전자 성별 피해운전자 연령 피해운전자 상해정도        사고날짜      사고시간  \n",
       "0       승용        남      65세       부상신고  2014-01-01  00:00:00  \n",
       "1       승용        남      54세         중상  2014-01-01  01:00:00  \n",
       "2       승용        여      26세       부상신고  2014-01-01  02:00:00  \n",
       "3       승용        남      25세         경상  2014-01-01  02:00:00  \n",
       "4       승용        남      37세         경상  2014-01-01  02:00:00  "
      ]
     },
     "execution_count": 323,
     "metadata": {},
     "output_type": "execute_result"
    }
   ],
   "source": [
    "data.head()"
   ]
  },
  {
   "cell_type": "code",
   "execution_count": 324,
   "metadata": {},
   "outputs": [],
   "source": [
    "data['피해운전자 연령'] = data['피해운전자 연령'].astype(str).str.extract(r'(\\d+)').astype(float)"
   ]
  },
  {
   "cell_type": "code",
   "execution_count": 325,
   "metadata": {},
   "outputs": [],
   "source": [
    "data = data[~data['피해운전자 상해정도'].isin(['기타불명', '미분류'])]"
   ]
  },
  {
   "cell_type": "code",
   "execution_count": 326,
   "metadata": {},
   "outputs": [
    {
     "data": {
      "text/plain": [
       "사고유형\n",
       "차대차     22114\n",
       "차대사람     2321\n",
       "차량단독     1365\n",
       "Name: count, dtype: int64"
      ]
     },
     "execution_count": 326,
     "metadata": {},
     "output_type": "execute_result"
    }
   ],
   "source": [
    "data['사고유형'].value_counts()"
   ]
  },
  {
   "cell_type": "code",
   "execution_count": 327,
   "metadata": {},
   "outputs": [
    {
     "data": {
      "text/plain": [
       "피해운전자 상해정도\n",
       "경상      17039\n",
       "중상       4722\n",
       "상해없음     1913\n",
       "부상신고      668\n",
       "사망         93\n",
       "Name: count, dtype: int64"
      ]
     },
     "execution_count": 327,
     "metadata": {},
     "output_type": "execute_result"
    }
   ],
   "source": [
    "data['피해운전자 상해정도'].value_counts()"
   ]
  },
  {
   "cell_type": "code",
   "execution_count": 328,
   "metadata": {},
   "outputs": [],
   "source": [
    "data = data[~data['가해운전자 상해정도'].isin(['기타불명'])]"
   ]
  },
  {
   "cell_type": "code",
   "execution_count": 329,
   "metadata": {},
   "outputs": [
    {
     "data": {
      "text/plain": [
       "가해운전자 상해정도\n",
       "상해없음    22327\n",
       "경상       1156\n",
       "부상신고      914\n",
       "중상        699\n",
       "사망        109\n",
       "Name: count, dtype: int64"
      ]
     },
     "execution_count": 329,
     "metadata": {},
     "output_type": "execute_result"
    }
   ],
   "source": [
    "data['가해운전자 상해정도'].value_counts()"
   ]
  },
  {
   "cell_type": "code",
   "execution_count": 330,
   "metadata": {},
   "outputs": [
    {
     "data": {
      "text/plain": [
       "사고유형\n",
       "차대차     21586\n",
       "차대사람     2267\n",
       "차량단독     1352\n",
       "Name: count, dtype: int64"
      ]
     },
     "execution_count": 330,
     "metadata": {},
     "output_type": "execute_result"
    }
   ],
   "source": [
    "data['사고유형'].value_counts()"
   ]
  },
  {
   "cell_type": "code",
   "execution_count": 331,
   "metadata": {},
   "outputs": [
    {
     "data": {
      "text/plain": [
       "가해운전자 차종\n",
       "승용     20711\n",
       "이륜      2700\n",
       "화물      1358\n",
       "자전거      436\n",
       "Name: count, dtype: int64"
      ]
     },
     "execution_count": 331,
     "metadata": {},
     "output_type": "execute_result"
    }
   ],
   "source": [
    "data['가해운전자 차종'].value_counts()"
   ]
  },
  {
   "cell_type": "code",
   "execution_count": 332,
   "metadata": {},
   "outputs": [
    {
     "data": {
      "text/plain": [
       "피해운전자 차종\n",
       "승용     18751\n",
       "보행자     2268\n",
       "이륜      1372\n",
       "화물      1208\n",
       "자전거      254\n",
       "Name: count, dtype: int64"
      ]
     },
     "execution_count": 332,
     "metadata": {},
     "output_type": "execute_result"
    }
   ],
   "source": [
    "data['피해운전자 차종'].value_counts()"
   ]
  },
  {
   "cell_type": "code",
   "execution_count": 333,
   "metadata": {},
   "outputs": [
    {
     "data": {
      "text/plain": [
       "도로형태\n",
       "단일로    14927\n",
       "교차로     9095\n",
       "기타      1084\n",
       "미분류       72\n",
       "주차장       27\n",
       "Name: count, dtype: int64"
      ]
     },
     "execution_count": 333,
     "metadata": {},
     "output_type": "execute_result"
    }
   ],
   "source": [
    "data['도로형태'].value_counts()"
   ]
  },
  {
   "cell_type": "code",
   "execution_count": 334,
   "metadata": {},
   "outputs": [],
   "source": [
    "valid_road = ['단일로','교차로', '주차장']\n",
    "data = data[data['도로형태'].isin(valid_road)]\n",
    "data = data[data['도로형태'].isin(valid_road)]"
   ]
  },
  {
   "cell_type": "code",
   "execution_count": 335,
   "metadata": {},
   "outputs": [
    {
     "data": {
      "text/plain": [
       "도로형태\n",
       "단일로    14927\n",
       "교차로     9095\n",
       "주차장       27\n",
       "Name: count, dtype: int64"
      ]
     },
     "execution_count": 335,
     "metadata": {},
     "output_type": "execute_result"
    }
   ],
   "source": [
    "data['도로형태'].value_counts()"
   ]
  },
  {
   "cell_type": "code",
   "execution_count": 336,
   "metadata": {},
   "outputs": [
    {
     "data": {
      "text/plain": [
       "노면상태\n",
       "건조       20523\n",
       "젖음/습기     1788\n",
       "습기        1149\n",
       "기타         459\n",
       "적설          63\n",
       "서리/결빙       43\n",
       "결빙          22\n",
       "침수           1\n",
       "해빙           1\n",
       "Name: count, dtype: int64"
      ]
     },
     "execution_count": 336,
     "metadata": {},
     "output_type": "execute_result"
    }
   ],
   "source": [
    "data['노면상태'].value_counts()"
   ]
  },
  {
   "cell_type": "code",
   "execution_count": 337,
   "metadata": {},
   "outputs": [
    {
     "data": {
      "text/plain": [
       "기상상태\n",
       "맑음    19943\n",
       "비      2181\n",
       "흐림     1385\n",
       "기타      380\n",
       "눈       155\n",
       "안개        5\n",
       "Name: count, dtype: int64"
      ]
     },
     "execution_count": 337,
     "metadata": {},
     "output_type": "execute_result"
    }
   ],
   "source": [
    "data['기상상태'].value_counts()"
   ]
  },
  {
   "cell_type": "code",
   "execution_count": 338,
   "metadata": {},
   "outputs": [],
   "source": [
    "data = data[~data['노면상태'].isin(['침수', '해빙'])]"
   ]
  },
  {
   "cell_type": "code",
   "execution_count": 339,
   "metadata": {},
   "outputs": [
    {
     "data": {
      "text/plain": [
       "노면상태\n",
       "건조       20523\n",
       "젖음/습기     1788\n",
       "습기        1149\n",
       "기타         459\n",
       "적설          63\n",
       "서리/결빙       43\n",
       "결빙          22\n",
       "Name: count, dtype: int64"
      ]
     },
     "execution_count": 339,
     "metadata": {},
     "output_type": "execute_result"
    }
   ],
   "source": [
    "data['노면상태'].value_counts()"
   ]
  },
  {
   "cell_type": "code",
   "execution_count": 340,
   "metadata": {},
   "outputs": [
    {
     "data": {
      "text/plain": [
       "가해운전자 연령\n",
       "29    851\n",
       "31    842\n",
       "30    819\n",
       "32    810\n",
       "33    798\n",
       "     ... \n",
       "76     11\n",
       "77      9\n",
       "80      4\n",
       "78      2\n",
       "79      2\n",
       "Name: count, Length: 62, dtype: int64"
      ]
     },
     "execution_count": 340,
     "metadata": {},
     "output_type": "execute_result"
    }
   ],
   "source": [
    "data['가해운전자 연령'].value_counts()"
   ]
  },
  {
   "cell_type": "code",
   "execution_count": 341,
   "metadata": {},
   "outputs": [],
   "source": [
    "data.to_csv('not_cate_data.csv', index=False)"
   ]
  },
  {
   "cell_type": "code",
   "execution_count": 342,
   "metadata": {},
   "outputs": [],
   "source": [
    "data.to_csv('not_cate_data_kor.csv', index=False, encoding='cp949')"
   ]
  },
  {
   "cell_type": "markdown",
   "metadata": {},
   "source": [
    "### 데이터 전처리 - 원/핫 인코딩"
   ]
  },
  {
   "cell_type": "code",
   "execution_count": 21,
   "metadata": {},
   "outputs": [],
   "source": [
    "data = pd.read_csv('not_cate_data.csv')"
   ]
  },
  {
   "cell_type": "code",
   "execution_count": 22,
   "metadata": {},
   "outputs": [],
   "source": [
    "data = pd.get_dummies(data, columns=['요일'])"
   ]
  },
  {
   "cell_type": "code",
   "execution_count": 23,
   "metadata": {},
   "outputs": [
    {
     "data": {
      "text/html": [
       "<div>\n",
       "<style scoped>\n",
       "    .dataframe tbody tr th:only-of-type {\n",
       "        vertical-align: middle;\n",
       "    }\n",
       "\n",
       "    .dataframe tbody tr th {\n",
       "        vertical-align: top;\n",
       "    }\n",
       "\n",
       "    .dataframe thead th {\n",
       "        text-align: right;\n",
       "    }\n",
       "</style>\n",
       "<table border=\"1\" class=\"dataframe\">\n",
       "  <thead>\n",
       "    <tr style=\"text-align: right;\">\n",
       "      <th></th>\n",
       "      <th>사고일시</th>\n",
       "      <th>사고유형</th>\n",
       "      <th>노면상태</th>\n",
       "      <th>기상상태</th>\n",
       "      <th>도로형태</th>\n",
       "      <th>가해운전자 차종</th>\n",
       "      <th>가해운전자 연령</th>\n",
       "      <th>가해운전자 상해정도</th>\n",
       "      <th>피해운전자 차종</th>\n",
       "      <th>피해운전자 성별</th>\n",
       "      <th>...</th>\n",
       "      <th>피해운전자 상해정도</th>\n",
       "      <th>사고날짜</th>\n",
       "      <th>사고시간</th>\n",
       "      <th>요일_금요일</th>\n",
       "      <th>요일_목요일</th>\n",
       "      <th>요일_수요일</th>\n",
       "      <th>요일_월요일</th>\n",
       "      <th>요일_일요일</th>\n",
       "      <th>요일_토요일</th>\n",
       "      <th>요일_화요일</th>\n",
       "    </tr>\n",
       "  </thead>\n",
       "  <tbody>\n",
       "    <tr>\n",
       "      <th>0</th>\n",
       "      <td>2014-01-01 00:00:00</td>\n",
       "      <td>차대차</td>\n",
       "      <td>건조</td>\n",
       "      <td>맑음</td>\n",
       "      <td>단일로</td>\n",
       "      <td>승용</td>\n",
       "      <td>31</td>\n",
       "      <td>상해없음</td>\n",
       "      <td>승용</td>\n",
       "      <td>남</td>\n",
       "      <td>...</td>\n",
       "      <td>부상신고</td>\n",
       "      <td>2014-01-01</td>\n",
       "      <td>00:00:00</td>\n",
       "      <td>False</td>\n",
       "      <td>False</td>\n",
       "      <td>True</td>\n",
       "      <td>False</td>\n",
       "      <td>False</td>\n",
       "      <td>False</td>\n",
       "      <td>False</td>\n",
       "    </tr>\n",
       "    <tr>\n",
       "      <th>1</th>\n",
       "      <td>2014-01-01 01:00:00</td>\n",
       "      <td>차대차</td>\n",
       "      <td>기타</td>\n",
       "      <td>맑음</td>\n",
       "      <td>단일로</td>\n",
       "      <td>승용</td>\n",
       "      <td>32</td>\n",
       "      <td>상해없음</td>\n",
       "      <td>승용</td>\n",
       "      <td>남</td>\n",
       "      <td>...</td>\n",
       "      <td>중상</td>\n",
       "      <td>2014-01-01</td>\n",
       "      <td>01:00:00</td>\n",
       "      <td>False</td>\n",
       "      <td>False</td>\n",
       "      <td>True</td>\n",
       "      <td>False</td>\n",
       "      <td>False</td>\n",
       "      <td>False</td>\n",
       "      <td>False</td>\n",
       "    </tr>\n",
       "    <tr>\n",
       "      <th>2</th>\n",
       "      <td>2014-01-01 02:00:00</td>\n",
       "      <td>차대차</td>\n",
       "      <td>건조</td>\n",
       "      <td>맑음</td>\n",
       "      <td>단일로</td>\n",
       "      <td>승용</td>\n",
       "      <td>26</td>\n",
       "      <td>상해없음</td>\n",
       "      <td>승용</td>\n",
       "      <td>여</td>\n",
       "      <td>...</td>\n",
       "      <td>부상신고</td>\n",
       "      <td>2014-01-01</td>\n",
       "      <td>02:00:00</td>\n",
       "      <td>False</td>\n",
       "      <td>False</td>\n",
       "      <td>True</td>\n",
       "      <td>False</td>\n",
       "      <td>False</td>\n",
       "      <td>False</td>\n",
       "      <td>False</td>\n",
       "    </tr>\n",
       "    <tr>\n",
       "      <th>3</th>\n",
       "      <td>2014-01-01 02:00:00</td>\n",
       "      <td>차대차</td>\n",
       "      <td>건조</td>\n",
       "      <td>맑음</td>\n",
       "      <td>단일로</td>\n",
       "      <td>승용</td>\n",
       "      <td>29</td>\n",
       "      <td>상해없음</td>\n",
       "      <td>승용</td>\n",
       "      <td>남</td>\n",
       "      <td>...</td>\n",
       "      <td>경상</td>\n",
       "      <td>2014-01-01</td>\n",
       "      <td>02:00:00</td>\n",
       "      <td>False</td>\n",
       "      <td>False</td>\n",
       "      <td>True</td>\n",
       "      <td>False</td>\n",
       "      <td>False</td>\n",
       "      <td>False</td>\n",
       "      <td>False</td>\n",
       "    </tr>\n",
       "    <tr>\n",
       "      <th>4</th>\n",
       "      <td>2014-01-01 02:00:00</td>\n",
       "      <td>차대차</td>\n",
       "      <td>건조</td>\n",
       "      <td>맑음</td>\n",
       "      <td>교차로</td>\n",
       "      <td>승용</td>\n",
       "      <td>42</td>\n",
       "      <td>상해없음</td>\n",
       "      <td>승용</td>\n",
       "      <td>남</td>\n",
       "      <td>...</td>\n",
       "      <td>경상</td>\n",
       "      <td>2014-01-01</td>\n",
       "      <td>02:00:00</td>\n",
       "      <td>False</td>\n",
       "      <td>False</td>\n",
       "      <td>True</td>\n",
       "      <td>False</td>\n",
       "      <td>False</td>\n",
       "      <td>False</td>\n",
       "      <td>False</td>\n",
       "    </tr>\n",
       "  </tbody>\n",
       "</table>\n",
       "<p>5 rows × 21 columns</p>\n",
       "</div>"
      ],
      "text/plain": [
       "                  사고일시 사고유형 노면상태 기상상태 도로형태 가해운전자 차종  가해운전자 연령 가해운전자 상해정도  \\\n",
       "0  2014-01-01 00:00:00  차대차   건조   맑음  단일로       승용        31       상해없음   \n",
       "1  2014-01-01 01:00:00  차대차   기타   맑음  단일로       승용        32       상해없음   \n",
       "2  2014-01-01 02:00:00  차대차   건조   맑음  단일로       승용        26       상해없음   \n",
       "3  2014-01-01 02:00:00  차대차   건조   맑음  단일로       승용        29       상해없음   \n",
       "4  2014-01-01 02:00:00  차대차   건조   맑음  교차로       승용        42       상해없음   \n",
       "\n",
       "  피해운전자 차종 피해운전자 성별  ...  피해운전자 상해정도        사고날짜      사고시간 요일_금요일  요일_목요일  \\\n",
       "0       승용        남  ...        부상신고  2014-01-01  00:00:00  False   False   \n",
       "1       승용        남  ...          중상  2014-01-01  01:00:00  False   False   \n",
       "2       승용        여  ...        부상신고  2014-01-01  02:00:00  False   False   \n",
       "3       승용        남  ...          경상  2014-01-01  02:00:00  False   False   \n",
       "4       승용        남  ...          경상  2014-01-01  02:00:00  False   False   \n",
       "\n",
       "   요일_수요일  요일_월요일  요일_일요일  요일_토요일  요일_화요일  \n",
       "0    True   False   False   False   False  \n",
       "1    True   False   False   False   False  \n",
       "2    True   False   False   False   False  \n",
       "3    True   False   False   False   False  \n",
       "4    True   False   False   False   False  \n",
       "\n",
       "[5 rows x 21 columns]"
      ]
     },
     "execution_count": 23,
     "metadata": {},
     "output_type": "execute_result"
    }
   ],
   "source": [
    "data.head()"
   ]
  },
  {
   "cell_type": "code",
   "execution_count": 24,
   "metadata": {},
   "outputs": [],
   "source": [
    "data['사고일시'] = pd.to_datetime(data['사고일시'])"
   ]
  },
  {
   "cell_type": "code",
   "execution_count": 25,
   "metadata": {},
   "outputs": [],
   "source": [
    "data['년'] = data['사고일시'].dt.year\n",
    "data['월'] = data['사고일시'].dt.month\n",
    "data['일'] = data['사고일시'].dt.day\n",
    "data['시간'] = data['사고일시'].dt.hour"
   ]
  },
  {
   "cell_type": "code",
   "execution_count": 26,
   "metadata": {},
   "outputs": [
    {
     "name": "stdout",
     "output_type": "stream",
     "text": [
      "<class 'pandas.core.frame.DataFrame'>\n",
      "RangeIndex: 24047 entries, 0 to 24046\n",
      "Data columns (total 25 columns):\n",
      " #   Column      Non-Null Count  Dtype         \n",
      "---  ------      --------------  -----         \n",
      " 0   사고일시        24047 non-null  datetime64[ns]\n",
      " 1   사고유형        24047 non-null  object        \n",
      " 2   노면상태        24047 non-null  object        \n",
      " 3   기상상태        24047 non-null  object        \n",
      " 4   도로형태        24047 non-null  object        \n",
      " 5   가해운전자 차종    24047 non-null  object        \n",
      " 6   가해운전자 연령    24047 non-null  int64         \n",
      " 7   가해운전자 상해정도  24047 non-null  object        \n",
      " 8   피해운전자 차종    22772 non-null  object        \n",
      " 9   피해운전자 성별    22772 non-null  object        \n",
      " 10  피해운전자 연령    22772 non-null  float64       \n",
      " 11  피해운전자 상해정도  22772 non-null  object        \n",
      " 12  사고날짜        24047 non-null  object        \n",
      " 13  사고시간        24047 non-null  object        \n",
      " 14  요일_금요일      24047 non-null  bool          \n",
      " 15  요일_목요일      24047 non-null  bool          \n",
      " 16  요일_수요일      24047 non-null  bool          \n",
      " 17  요일_월요일      24047 non-null  bool          \n",
      " 18  요일_일요일      24047 non-null  bool          \n",
      " 19  요일_토요일      24047 non-null  bool          \n",
      " 20  요일_화요일      24047 non-null  bool          \n",
      " 21  년           24047 non-null  int32         \n",
      " 22  월           24047 non-null  int32         \n",
      " 23  일           24047 non-null  int32         \n",
      " 24  시간          24047 non-null  int32         \n",
      "dtypes: bool(7), datetime64[ns](1), float64(1), int32(4), int64(1), object(11)\n",
      "memory usage: 3.1+ MB\n"
     ]
    }
   ],
   "source": [
    "data.info()"
   ]
  },
  {
   "cell_type": "code",
   "execution_count": 27,
   "metadata": {},
   "outputs": [],
   "source": [
    "data = data.drop('사고날짜', axis=1)"
   ]
  },
  {
   "cell_type": "code",
   "execution_count": 28,
   "metadata": {},
   "outputs": [],
   "source": [
    "data = data.drop('사고시간', axis=1)"
   ]
  },
  {
   "cell_type": "code",
   "execution_count": 29,
   "metadata": {},
   "outputs": [
    {
     "name": "stdout",
     "output_type": "stream",
     "text": [
      "<class 'pandas.core.frame.DataFrame'>\n",
      "RangeIndex: 24047 entries, 0 to 24046\n",
      "Data columns (total 23 columns):\n",
      " #   Column      Non-Null Count  Dtype         \n",
      "---  ------      --------------  -----         \n",
      " 0   사고일시        24047 non-null  datetime64[ns]\n",
      " 1   사고유형        24047 non-null  object        \n",
      " 2   노면상태        24047 non-null  object        \n",
      " 3   기상상태        24047 non-null  object        \n",
      " 4   도로형태        24047 non-null  object        \n",
      " 5   가해운전자 차종    24047 non-null  object        \n",
      " 6   가해운전자 연령    24047 non-null  int64         \n",
      " 7   가해운전자 상해정도  24047 non-null  object        \n",
      " 8   피해운전자 차종    22772 non-null  object        \n",
      " 9   피해운전자 성별    22772 non-null  object        \n",
      " 10  피해운전자 연령    22772 non-null  float64       \n",
      " 11  피해운전자 상해정도  22772 non-null  object        \n",
      " 12  요일_금요일      24047 non-null  bool          \n",
      " 13  요일_목요일      24047 non-null  bool          \n",
      " 14  요일_수요일      24047 non-null  bool          \n",
      " 15  요일_월요일      24047 non-null  bool          \n",
      " 16  요일_일요일      24047 non-null  bool          \n",
      " 17  요일_토요일      24047 non-null  bool          \n",
      " 18  요일_화요일      24047 non-null  bool          \n",
      " 19  년           24047 non-null  int32         \n",
      " 20  월           24047 non-null  int32         \n",
      " 21  일           24047 non-null  int32         \n",
      " 22  시간          24047 non-null  int32         \n",
      "dtypes: bool(7), datetime64[ns](1), float64(1), int32(4), int64(1), object(9)\n",
      "memory usage: 2.7+ MB\n"
     ]
    }
   ],
   "source": [
    "data.info()"
   ]
  },
  {
   "cell_type": "code",
   "execution_count": 30,
   "metadata": {},
   "outputs": [],
   "source": [
    "data = pd.get_dummies(data, columns=['사고유형'])\n",
    "data = pd.get_dummies(data, columns=['노면상태'])\n",
    "data = pd.get_dummies(data, columns=['기상상태'])\n",
    "data = pd.get_dummies(data, columns=['도로형태'])\n",
    "data = pd.get_dummies(data, columns=['가해운전자 차종'])\n",
    "data = pd.get_dummies(data, columns=['피해운전자 차종'])\n",
    "data = pd.get_dummies(data, columns=['피해운전자 성별'])"
   ]
  },
  {
   "cell_type": "code",
   "execution_count": 31,
   "metadata": {},
   "outputs": [
    {
     "name": "stdout",
     "output_type": "stream",
     "text": [
      "<class 'pandas.core.frame.DataFrame'>\n",
      "RangeIndex: 24047 entries, 0 to 24046\n",
      "Data columns (total 46 columns):\n",
      " #   Column        Non-Null Count  Dtype         \n",
      "---  ------        --------------  -----         \n",
      " 0   사고일시          24047 non-null  datetime64[ns]\n",
      " 1   가해운전자 연령      24047 non-null  int64         \n",
      " 2   가해운전자 상해정도    24047 non-null  object        \n",
      " 3   피해운전자 연령      22772 non-null  float64       \n",
      " 4   피해운전자 상해정도    22772 non-null  object        \n",
      " 5   요일_금요일        24047 non-null  bool          \n",
      " 6   요일_목요일        24047 non-null  bool          \n",
      " 7   요일_수요일        24047 non-null  bool          \n",
      " 8   요일_월요일        24047 non-null  bool          \n",
      " 9   요일_일요일        24047 non-null  bool          \n",
      " 10  요일_토요일        24047 non-null  bool          \n",
      " 11  요일_화요일        24047 non-null  bool          \n",
      " 12  년             24047 non-null  int32         \n",
      " 13  월             24047 non-null  int32         \n",
      " 14  일             24047 non-null  int32         \n",
      " 15  시간            24047 non-null  int32         \n",
      " 16  사고유형_차대사람     24047 non-null  bool          \n",
      " 17  사고유형_차대차      24047 non-null  bool          \n",
      " 18  사고유형_차량단독     24047 non-null  bool          \n",
      " 19  노면상태_건조       24047 non-null  bool          \n",
      " 20  노면상태_결빙       24047 non-null  bool          \n",
      " 21  노면상태_기타       24047 non-null  bool          \n",
      " 22  노면상태_서리/결빙    24047 non-null  bool          \n",
      " 23  노면상태_습기       24047 non-null  bool          \n",
      " 24  노면상태_적설       24047 non-null  bool          \n",
      " 25  노면상태_젖음/습기    24047 non-null  bool          \n",
      " 26  기상상태_기타       24047 non-null  bool          \n",
      " 27  기상상태_눈        24047 non-null  bool          \n",
      " 28  기상상태_맑음       24047 non-null  bool          \n",
      " 29  기상상태_비        24047 non-null  bool          \n",
      " 30  기상상태_안개       24047 non-null  bool          \n",
      " 31  기상상태_흐림       24047 non-null  bool          \n",
      " 32  도로형태_교차로      24047 non-null  bool          \n",
      " 33  도로형태_단일로      24047 non-null  bool          \n",
      " 34  도로형태_주차장      24047 non-null  bool          \n",
      " 35  가해운전자 차종_승용   24047 non-null  bool          \n",
      " 36  가해운전자 차종_이륜   24047 non-null  bool          \n",
      " 37  가해운전자 차종_자전거  24047 non-null  bool          \n",
      " 38  가해운전자 차종_화물   24047 non-null  bool          \n",
      " 39  피해운전자 차종_보행자  24047 non-null  bool          \n",
      " 40  피해운전자 차종_승용   24047 non-null  bool          \n",
      " 41  피해운전자 차종_이륜   24047 non-null  bool          \n",
      " 42  피해운전자 차종_자전거  24047 non-null  bool          \n",
      " 43  피해운전자 차종_화물   24047 non-null  bool          \n",
      " 44  피해운전자 성별_남    24047 non-null  bool          \n",
      " 45  피해운전자 성별_여    24047 non-null  bool          \n",
      "dtypes: bool(37), datetime64[ns](1), float64(1), int32(4), int64(1), object(2)\n",
      "memory usage: 2.1+ MB\n"
     ]
    }
   ],
   "source": [
    "data.info()"
   ]
  },
  {
   "cell_type": "code",
   "execution_count": 32,
   "metadata": {},
   "outputs": [],
   "source": [
    "data['피해운전자 연령'] = data['피해운전자 연령'].fillna(data['가해운전자 연령'])\n",
    "data['피해운전자 상해정도'] = data['피해운전자 상해정도'].fillna(data['가해운전자 상해정도'])"
   ]
  },
  {
   "cell_type": "code",
   "execution_count": null,
   "metadata": {},
   "outputs": [],
   "source": []
  },
  {
   "cell_type": "code",
   "execution_count": 33,
   "metadata": {},
   "outputs": [
    {
     "name": "stdout",
     "output_type": "stream",
     "text": [
      "<class 'pandas.core.frame.DataFrame'>\n",
      "RangeIndex: 24047 entries, 0 to 24046\n",
      "Data columns (total 46 columns):\n",
      " #   Column        Non-Null Count  Dtype         \n",
      "---  ------        --------------  -----         \n",
      " 0   사고일시          24047 non-null  datetime64[ns]\n",
      " 1   가해운전자 연령      24047 non-null  int64         \n",
      " 2   가해운전자 상해정도    24047 non-null  object        \n",
      " 3   피해운전자 연령      24047 non-null  float64       \n",
      " 4   피해운전자 상해정도    24047 non-null  object        \n",
      " 5   요일_금요일        24047 non-null  bool          \n",
      " 6   요일_목요일        24047 non-null  bool          \n",
      " 7   요일_수요일        24047 non-null  bool          \n",
      " 8   요일_월요일        24047 non-null  bool          \n",
      " 9   요일_일요일        24047 non-null  bool          \n",
      " 10  요일_토요일        24047 non-null  bool          \n",
      " 11  요일_화요일        24047 non-null  bool          \n",
      " 12  년             24047 non-null  int32         \n",
      " 13  월             24047 non-null  int32         \n",
      " 14  일             24047 non-null  int32         \n",
      " 15  시간            24047 non-null  int32         \n",
      " 16  사고유형_차대사람     24047 non-null  bool          \n",
      " 17  사고유형_차대차      24047 non-null  bool          \n",
      " 18  사고유형_차량단독     24047 non-null  bool          \n",
      " 19  노면상태_건조       24047 non-null  bool          \n",
      " 20  노면상태_결빙       24047 non-null  bool          \n",
      " 21  노면상태_기타       24047 non-null  bool          \n",
      " 22  노면상태_서리/결빙    24047 non-null  bool          \n",
      " 23  노면상태_습기       24047 non-null  bool          \n",
      " 24  노면상태_적설       24047 non-null  bool          \n",
      " 25  노면상태_젖음/습기    24047 non-null  bool          \n",
      " 26  기상상태_기타       24047 non-null  bool          \n",
      " 27  기상상태_눈        24047 non-null  bool          \n",
      " 28  기상상태_맑음       24047 non-null  bool          \n",
      " 29  기상상태_비        24047 non-null  bool          \n",
      " 30  기상상태_안개       24047 non-null  bool          \n",
      " 31  기상상태_흐림       24047 non-null  bool          \n",
      " 32  도로형태_교차로      24047 non-null  bool          \n",
      " 33  도로형태_단일로      24047 non-null  bool          \n",
      " 34  도로형태_주차장      24047 non-null  bool          \n",
      " 35  가해운전자 차종_승용   24047 non-null  bool          \n",
      " 36  가해운전자 차종_이륜   24047 non-null  bool          \n",
      " 37  가해운전자 차종_자전거  24047 non-null  bool          \n",
      " 38  가해운전자 차종_화물   24047 non-null  bool          \n",
      " 39  피해운전자 차종_보행자  24047 non-null  bool          \n",
      " 40  피해운전자 차종_승용   24047 non-null  bool          \n",
      " 41  피해운전자 차종_이륜   24047 non-null  bool          \n",
      " 42  피해운전자 차종_자전거  24047 non-null  bool          \n",
      " 43  피해운전자 차종_화물   24047 non-null  bool          \n",
      " 44  피해운전자 성별_남    24047 non-null  bool          \n",
      " 45  피해운전자 성별_여    24047 non-null  bool          \n",
      "dtypes: bool(37), datetime64[ns](1), float64(1), int32(4), int64(1), object(2)\n",
      "memory usage: 2.1+ MB\n"
     ]
    }
   ],
   "source": [
    "data.info()"
   ]
  },
  {
   "cell_type": "code",
   "execution_count": 34,
   "metadata": {},
   "outputs": [],
   "source": [
    "# from sklearn.preprocessing import LabelEncoder\n",
    "\n",
    "# # '사고유형' 열을 레이블 인코딩\n",
    "# label_encoder = LabelEncoder()\n",
    "# data['가해운전자 상해정도'] = label_encoder.fit_transform(data['가해운전자 상해정도'])\n",
    "# data['피해운전자 상해정도'] = label_encoder.fit_transform(data['피해운전자 상해정도'])"
   ]
  },
  {
   "cell_type": "code",
   "execution_count": 35,
   "metadata": {},
   "outputs": [
    {
     "name": "stderr",
     "output_type": "stream",
     "text": [
      "C:\\Users\\medici\\AppData\\Local\\Temp\\ipykernel_18384\\2885166103.py:1: FutureWarning: Downcasting behavior in `replace` is deprecated and will be removed in a future version. To retain the old behavior, explicitly call `result.infer_objects(copy=False)`. To opt-in to the future behavior, set `pd.set_option('future.no_silent_downcasting', True)`\n",
      "  data['가해운전자 상해정도'] = data['가해운전자 상해정도'].replace({\n",
      "C:\\Users\\medici\\AppData\\Local\\Temp\\ipykernel_18384\\2885166103.py:9: FutureWarning: Downcasting behavior in `replace` is deprecated and will be removed in a future version. To retain the old behavior, explicitly call `result.infer_objects(copy=False)`. To opt-in to the future behavior, set `pd.set_option('future.no_silent_downcasting', True)`\n",
      "  data['피해운전자 상해정도'] = data['피해운전자 상해정도'].replace({\n"
     ]
    }
   ],
   "source": [
    "data['가해운전자 상해정도'] = data['가해운전자 상해정도'].replace({\n",
    "    '상해없음': 0,\n",
    "    '부상신고': 1,\n",
    "    '경상': 2,\n",
    "    '중상': 3,\n",
    "    '사망': 4\n",
    "})\n",
    "\n",
    "data['피해운전자 상해정도'] = data['피해운전자 상해정도'].replace({\n",
    "    '상해없음': 0,\n",
    "    '부상신고': 1,\n",
    "    '경상': 2,\n",
    "    '중상': 3,\n",
    "    '사망': 4\n",
    "})"
   ]
  },
  {
   "cell_type": "code",
   "execution_count": 36,
   "metadata": {},
   "outputs": [
    {
     "name": "stdout",
     "output_type": "stream",
     "text": [
      "<class 'pandas.core.frame.DataFrame'>\n",
      "RangeIndex: 24047 entries, 0 to 24046\n",
      "Data columns (total 46 columns):\n",
      " #   Column        Non-Null Count  Dtype         \n",
      "---  ------        --------------  -----         \n",
      " 0   사고일시          24047 non-null  datetime64[ns]\n",
      " 1   가해운전자 연령      24047 non-null  int64         \n",
      " 2   가해운전자 상해정도    24047 non-null  int64         \n",
      " 3   피해운전자 연령      24047 non-null  float64       \n",
      " 4   피해운전자 상해정도    24047 non-null  int64         \n",
      " 5   요일_금요일        24047 non-null  bool          \n",
      " 6   요일_목요일        24047 non-null  bool          \n",
      " 7   요일_수요일        24047 non-null  bool          \n",
      " 8   요일_월요일        24047 non-null  bool          \n",
      " 9   요일_일요일        24047 non-null  bool          \n",
      " 10  요일_토요일        24047 non-null  bool          \n",
      " 11  요일_화요일        24047 non-null  bool          \n",
      " 12  년             24047 non-null  int32         \n",
      " 13  월             24047 non-null  int32         \n",
      " 14  일             24047 non-null  int32         \n",
      " 15  시간            24047 non-null  int32         \n",
      " 16  사고유형_차대사람     24047 non-null  bool          \n",
      " 17  사고유형_차대차      24047 non-null  bool          \n",
      " 18  사고유형_차량단독     24047 non-null  bool          \n",
      " 19  노면상태_건조       24047 non-null  bool          \n",
      " 20  노면상태_결빙       24047 non-null  bool          \n",
      " 21  노면상태_기타       24047 non-null  bool          \n",
      " 22  노면상태_서리/결빙    24047 non-null  bool          \n",
      " 23  노면상태_습기       24047 non-null  bool          \n",
      " 24  노면상태_적설       24047 non-null  bool          \n",
      " 25  노면상태_젖음/습기    24047 non-null  bool          \n",
      " 26  기상상태_기타       24047 non-null  bool          \n",
      " 27  기상상태_눈        24047 non-null  bool          \n",
      " 28  기상상태_맑음       24047 non-null  bool          \n",
      " 29  기상상태_비        24047 non-null  bool          \n",
      " 30  기상상태_안개       24047 non-null  bool          \n",
      " 31  기상상태_흐림       24047 non-null  bool          \n",
      " 32  도로형태_교차로      24047 non-null  bool          \n",
      " 33  도로형태_단일로      24047 non-null  bool          \n",
      " 34  도로형태_주차장      24047 non-null  bool          \n",
      " 35  가해운전자 차종_승용   24047 non-null  bool          \n",
      " 36  가해운전자 차종_이륜   24047 non-null  bool          \n",
      " 37  가해운전자 차종_자전거  24047 non-null  bool          \n",
      " 38  가해운전자 차종_화물   24047 non-null  bool          \n",
      " 39  피해운전자 차종_보행자  24047 non-null  bool          \n",
      " 40  피해운전자 차종_승용   24047 non-null  bool          \n",
      " 41  피해운전자 차종_이륜   24047 non-null  bool          \n",
      " 42  피해운전자 차종_자전거  24047 non-null  bool          \n",
      " 43  피해운전자 차종_화물   24047 non-null  bool          \n",
      " 44  피해운전자 성별_남    24047 non-null  bool          \n",
      " 45  피해운전자 성별_여    24047 non-null  bool          \n",
      "dtypes: bool(37), datetime64[ns](1), float64(1), int32(4), int64(3)\n",
      "memory usage: 2.1 MB\n"
     ]
    }
   ],
   "source": [
    "data.info()"
   ]
  },
  {
   "cell_type": "code",
   "execution_count": 37,
   "metadata": {},
   "outputs": [
    {
     "data": {
      "text/html": [
       "<div>\n",
       "<style scoped>\n",
       "    .dataframe tbody tr th:only-of-type {\n",
       "        vertical-align: middle;\n",
       "    }\n",
       "\n",
       "    .dataframe tbody tr th {\n",
       "        vertical-align: top;\n",
       "    }\n",
       "\n",
       "    .dataframe thead th {\n",
       "        text-align: right;\n",
       "    }\n",
       "</style>\n",
       "<table border=\"1\" class=\"dataframe\">\n",
       "  <thead>\n",
       "    <tr style=\"text-align: right;\">\n",
       "      <th></th>\n",
       "      <th>사고일시</th>\n",
       "      <th>가해운전자 연령</th>\n",
       "      <th>가해운전자 상해정도</th>\n",
       "      <th>피해운전자 연령</th>\n",
       "      <th>피해운전자 상해정도</th>\n",
       "      <th>요일_금요일</th>\n",
       "      <th>요일_목요일</th>\n",
       "      <th>요일_수요일</th>\n",
       "      <th>요일_월요일</th>\n",
       "      <th>요일_일요일</th>\n",
       "      <th>...</th>\n",
       "      <th>가해운전자 차종_이륜</th>\n",
       "      <th>가해운전자 차종_자전거</th>\n",
       "      <th>가해운전자 차종_화물</th>\n",
       "      <th>피해운전자 차종_보행자</th>\n",
       "      <th>피해운전자 차종_승용</th>\n",
       "      <th>피해운전자 차종_이륜</th>\n",
       "      <th>피해운전자 차종_자전거</th>\n",
       "      <th>피해운전자 차종_화물</th>\n",
       "      <th>피해운전자 성별_남</th>\n",
       "      <th>피해운전자 성별_여</th>\n",
       "    </tr>\n",
       "  </thead>\n",
       "  <tbody>\n",
       "    <tr>\n",
       "      <th>0</th>\n",
       "      <td>2014-01-01 00:00:00</td>\n",
       "      <td>31</td>\n",
       "      <td>0</td>\n",
       "      <td>65.0</td>\n",
       "      <td>1</td>\n",
       "      <td>False</td>\n",
       "      <td>False</td>\n",
       "      <td>True</td>\n",
       "      <td>False</td>\n",
       "      <td>False</td>\n",
       "      <td>...</td>\n",
       "      <td>False</td>\n",
       "      <td>False</td>\n",
       "      <td>False</td>\n",
       "      <td>False</td>\n",
       "      <td>True</td>\n",
       "      <td>False</td>\n",
       "      <td>False</td>\n",
       "      <td>False</td>\n",
       "      <td>True</td>\n",
       "      <td>False</td>\n",
       "    </tr>\n",
       "    <tr>\n",
       "      <th>1</th>\n",
       "      <td>2014-01-01 01:00:00</td>\n",
       "      <td>32</td>\n",
       "      <td>0</td>\n",
       "      <td>54.0</td>\n",
       "      <td>3</td>\n",
       "      <td>False</td>\n",
       "      <td>False</td>\n",
       "      <td>True</td>\n",
       "      <td>False</td>\n",
       "      <td>False</td>\n",
       "      <td>...</td>\n",
       "      <td>False</td>\n",
       "      <td>False</td>\n",
       "      <td>False</td>\n",
       "      <td>False</td>\n",
       "      <td>True</td>\n",
       "      <td>False</td>\n",
       "      <td>False</td>\n",
       "      <td>False</td>\n",
       "      <td>True</td>\n",
       "      <td>False</td>\n",
       "    </tr>\n",
       "    <tr>\n",
       "      <th>2</th>\n",
       "      <td>2014-01-01 02:00:00</td>\n",
       "      <td>26</td>\n",
       "      <td>0</td>\n",
       "      <td>26.0</td>\n",
       "      <td>1</td>\n",
       "      <td>False</td>\n",
       "      <td>False</td>\n",
       "      <td>True</td>\n",
       "      <td>False</td>\n",
       "      <td>False</td>\n",
       "      <td>...</td>\n",
       "      <td>False</td>\n",
       "      <td>False</td>\n",
       "      <td>False</td>\n",
       "      <td>False</td>\n",
       "      <td>True</td>\n",
       "      <td>False</td>\n",
       "      <td>False</td>\n",
       "      <td>False</td>\n",
       "      <td>False</td>\n",
       "      <td>True</td>\n",
       "    </tr>\n",
       "    <tr>\n",
       "      <th>3</th>\n",
       "      <td>2014-01-01 02:00:00</td>\n",
       "      <td>29</td>\n",
       "      <td>0</td>\n",
       "      <td>25.0</td>\n",
       "      <td>2</td>\n",
       "      <td>False</td>\n",
       "      <td>False</td>\n",
       "      <td>True</td>\n",
       "      <td>False</td>\n",
       "      <td>False</td>\n",
       "      <td>...</td>\n",
       "      <td>False</td>\n",
       "      <td>False</td>\n",
       "      <td>False</td>\n",
       "      <td>False</td>\n",
       "      <td>True</td>\n",
       "      <td>False</td>\n",
       "      <td>False</td>\n",
       "      <td>False</td>\n",
       "      <td>True</td>\n",
       "      <td>False</td>\n",
       "    </tr>\n",
       "    <tr>\n",
       "      <th>4</th>\n",
       "      <td>2014-01-01 02:00:00</td>\n",
       "      <td>42</td>\n",
       "      <td>0</td>\n",
       "      <td>37.0</td>\n",
       "      <td>2</td>\n",
       "      <td>False</td>\n",
       "      <td>False</td>\n",
       "      <td>True</td>\n",
       "      <td>False</td>\n",
       "      <td>False</td>\n",
       "      <td>...</td>\n",
       "      <td>False</td>\n",
       "      <td>False</td>\n",
       "      <td>False</td>\n",
       "      <td>False</td>\n",
       "      <td>True</td>\n",
       "      <td>False</td>\n",
       "      <td>False</td>\n",
       "      <td>False</td>\n",
       "      <td>True</td>\n",
       "      <td>False</td>\n",
       "    </tr>\n",
       "  </tbody>\n",
       "</table>\n",
       "<p>5 rows × 46 columns</p>\n",
       "</div>"
      ],
      "text/plain": [
       "                 사고일시  가해운전자 연령  가해운전자 상해정도  피해운전자 연령  피해운전자 상해정도  요일_금요일  \\\n",
       "0 2014-01-01 00:00:00        31           0      65.0           1   False   \n",
       "1 2014-01-01 01:00:00        32           0      54.0           3   False   \n",
       "2 2014-01-01 02:00:00        26           0      26.0           1   False   \n",
       "3 2014-01-01 02:00:00        29           0      25.0           2   False   \n",
       "4 2014-01-01 02:00:00        42           0      37.0           2   False   \n",
       "\n",
       "   요일_목요일  요일_수요일  요일_월요일  요일_일요일  ...  가해운전자 차종_이륜  가해운전자 차종_자전거  \\\n",
       "0   False    True   False   False  ...        False         False   \n",
       "1   False    True   False   False  ...        False         False   \n",
       "2   False    True   False   False  ...        False         False   \n",
       "3   False    True   False   False  ...        False         False   \n",
       "4   False    True   False   False  ...        False         False   \n",
       "\n",
       "   가해운전자 차종_화물  피해운전자 차종_보행자  피해운전자 차종_승용  피해운전자 차종_이륜  피해운전자 차종_자전거  \\\n",
       "0        False         False         True        False         False   \n",
       "1        False         False         True        False         False   \n",
       "2        False         False         True        False         False   \n",
       "3        False         False         True        False         False   \n",
       "4        False         False         True        False         False   \n",
       "\n",
       "   피해운전자 차종_화물  피해운전자 성별_남  피해운전자 성별_여  \n",
       "0        False        True       False  \n",
       "1        False        True       False  \n",
       "2        False       False        True  \n",
       "3        False        True       False  \n",
       "4        False        True       False  \n",
       "\n",
       "[5 rows x 46 columns]"
      ]
     },
     "execution_count": 37,
     "metadata": {},
     "output_type": "execute_result"
    }
   ],
   "source": [
    "data.head()"
   ]
  },
  {
   "cell_type": "code",
   "execution_count": 38,
   "metadata": {},
   "outputs": [],
   "source": [
    "data = data.drop('사고일시', axis=1)"
   ]
  },
  {
   "cell_type": "code",
   "execution_count": 39,
   "metadata": {},
   "outputs": [],
   "source": [
    "data = data.drop(columns=['피해운전자 성별_남', '피해운전자 성별_여', '사고유형_차대사람', '도로형태_교차로'])"
   ]
  },
  {
   "cell_type": "code",
   "execution_count": 40,
   "metadata": {},
   "outputs": [
    {
     "name": "stdout",
     "output_type": "stream",
     "text": [
      "<class 'pandas.core.frame.DataFrame'>\n",
      "RangeIndex: 24047 entries, 0 to 24046\n",
      "Data columns (total 41 columns):\n",
      " #   Column        Non-Null Count  Dtype  \n",
      "---  ------        --------------  -----  \n",
      " 0   가해운전자 연령      24047 non-null  int64  \n",
      " 1   가해운전자 상해정도    24047 non-null  int64  \n",
      " 2   피해운전자 연령      24047 non-null  float64\n",
      " 3   피해운전자 상해정도    24047 non-null  int64  \n",
      " 4   요일_금요일        24047 non-null  bool   \n",
      " 5   요일_목요일        24047 non-null  bool   \n",
      " 6   요일_수요일        24047 non-null  bool   \n",
      " 7   요일_월요일        24047 non-null  bool   \n",
      " 8   요일_일요일        24047 non-null  bool   \n",
      " 9   요일_토요일        24047 non-null  bool   \n",
      " 10  요일_화요일        24047 non-null  bool   \n",
      " 11  년             24047 non-null  int32  \n",
      " 12  월             24047 non-null  int32  \n",
      " 13  일             24047 non-null  int32  \n",
      " 14  시간            24047 non-null  int32  \n",
      " 15  사고유형_차대차      24047 non-null  bool   \n",
      " 16  사고유형_차량단독     24047 non-null  bool   \n",
      " 17  노면상태_건조       24047 non-null  bool   \n",
      " 18  노면상태_결빙       24047 non-null  bool   \n",
      " 19  노면상태_기타       24047 non-null  bool   \n",
      " 20  노면상태_서리/결빙    24047 non-null  bool   \n",
      " 21  노면상태_습기       24047 non-null  bool   \n",
      " 22  노면상태_적설       24047 non-null  bool   \n",
      " 23  노면상태_젖음/습기    24047 non-null  bool   \n",
      " 24  기상상태_기타       24047 non-null  bool   \n",
      " 25  기상상태_눈        24047 non-null  bool   \n",
      " 26  기상상태_맑음       24047 non-null  bool   \n",
      " 27  기상상태_비        24047 non-null  bool   \n",
      " 28  기상상태_안개       24047 non-null  bool   \n",
      " 29  기상상태_흐림       24047 non-null  bool   \n",
      " 30  도로형태_단일로      24047 non-null  bool   \n",
      " 31  도로형태_주차장      24047 non-null  bool   \n",
      " 32  가해운전자 차종_승용   24047 non-null  bool   \n",
      " 33  가해운전자 차종_이륜   24047 non-null  bool   \n",
      " 34  가해운전자 차종_자전거  24047 non-null  bool   \n",
      " 35  가해운전자 차종_화물   24047 non-null  bool   \n",
      " 36  피해운전자 차종_보행자  24047 non-null  bool   \n",
      " 37  피해운전자 차종_승용   24047 non-null  bool   \n",
      " 38  피해운전자 차종_이륜   24047 non-null  bool   \n",
      " 39  피해운전자 차종_자전거  24047 non-null  bool   \n",
      " 40  피해운전자 차종_화물   24047 non-null  bool   \n",
      "dtypes: bool(33), float64(1), int32(4), int64(3)\n",
      "memory usage: 1.9 MB\n"
     ]
    }
   ],
   "source": [
    "data.info()"
   ]
  },
  {
   "cell_type": "code",
   "execution_count": 20,
   "metadata": {},
   "outputs": [],
   "source": [
    "correlation_matrix = data.corr()"
   ]
  },
  {
   "cell_type": "code",
   "execution_count": 21,
   "metadata": {},
   "outputs": [
    {
     "name": "stdout",
     "output_type": "stream",
     "text": [
      "              가해운전자 연령  가해운전자 상해정도  피해운전자 연령  피해운전자 상해정도    요일_금요일    요일_목요일  \\\n",
      "가해운전자 연령      1.000000    0.073477 -0.034049   -0.099391  0.022089  0.023784   \n",
      "가해운전자 상해정도    0.073477    1.000000 -0.016987   -0.261928 -0.003364  0.009690   \n",
      "피해운전자 연령     -0.034049   -0.016987  1.000000    0.049691  0.004920  0.000607   \n",
      "피해운전자 상해정도   -0.099391   -0.261928  0.049691    1.000000 -0.017500 -0.001209   \n",
      "요일_금요일        0.022089   -0.003364  0.004920   -0.017500  1.000000 -0.176100   \n",
      "요일_목요일        0.023784    0.009690  0.000607   -0.001209 -0.176100  1.000000   \n",
      "요일_수요일        0.007432    0.006579 -0.007404    0.002182 -0.164117 -0.161037   \n",
      "요일_월요일        0.015464   -0.001182 -0.003703    0.003311 -0.147406 -0.144640   \n",
      "요일_일요일       -0.057412   -0.006391 -0.007231    0.021906 -0.176217 -0.172910   \n",
      "요일_토요일       -0.028416   -0.011636  0.002242   -0.002056 -0.202513 -0.198713   \n",
      "요일_화요일        0.023156    0.008123  0.009945   -0.006026 -0.162670 -0.159618   \n",
      "년             0.098571   -0.002431  0.030165   -0.082207  0.005129  0.014758   \n",
      "월             0.009064   -0.005144  0.014844    0.007929  0.014211 -0.001922   \n",
      "일             0.003015   -0.003751  0.002798   -0.001021  0.019197  0.006592   \n",
      "시간            0.313895    0.054008 -0.101550   -0.079792  0.019500  0.044741   \n",
      "사고유형_차대차      0.065488    0.196711  0.073201   -0.383595  0.016082  0.007084   \n",
      "사고유형_차량단독    -0.114629   -0.364807       NaN    0.481426 -0.009820 -0.011443   \n",
      "노면상태_건조      -0.020057   -0.014195  0.000635    0.000969  0.032153  0.000403   \n",
      "노면상태_결빙      -0.010019    0.002066 -0.009153    0.007044 -0.012820  0.010705   \n",
      "노면상태_기타      -0.011557    0.006100 -0.001703    0.002442 -0.004943 -0.010827   \n",
      "노면상태_서리/결빙   -0.013967   -0.001249  0.008748    0.008613 -0.004228 -0.014817   \n",
      "노면상태_습기      -0.009605   -0.006742 -0.012200    0.021608 -0.010765 -0.005660   \n",
      "노면상태_적설      -0.000412    0.010689  0.005459   -0.015881 -0.001328 -0.014419   \n",
      "노면상태_젖음/습기    0.044359    0.019316  0.008400   -0.019252 -0.029596  0.013668   \n",
      "기상상태_기타      -0.013731   -0.006721 -0.004782    0.001459 -0.004340  0.007686   \n",
      "기상상태_눈       -0.012746    0.009079  0.008343   -0.004865 -0.010974 -0.023219   \n",
      "기상상태_맑음      -0.022792   -0.007510 -0.011346   -0.003300  0.019839 -0.001039   \n",
      "기상상태_비        0.037198    0.015207  0.002372   -0.009824 -0.024884  0.004007   \n",
      "기상상태_안개       0.005335   -0.015713 -0.001948    0.012113  0.001921 -0.005995   \n",
      "기상상태_흐림       0.002351   -0.005167  0.015245    0.017578  0.004601  0.000976   \n",
      "도로형태_단일로      0.007172   -0.012221 -0.025319    0.021695  0.006408  0.017375   \n",
      "도로형태_주차장      0.021092    0.001760  0.000546   -0.005283  0.006540  0.003580   \n",
      "가해운전자 차종_승용  -0.009627    0.303570  0.013106   -0.244490  0.013618  0.001647   \n",
      "가해운전자 차종_이륜  -0.131360   -0.336111 -0.007514    0.291803 -0.014010 -0.007579   \n",
      "가해운전자 차종_자전거  0.045055   -0.170037 -0.017946    0.085898 -0.008616  0.003468   \n",
      "가해운전자 차종_화물   0.171531    0.040402 -0.002329   -0.033703  0.000887  0.005712   \n",
      "피해운전자 차종_보행자  0.010286    0.047632 -0.073514    0.089651 -0.012053  0.000308   \n",
      "피해운전자 차종_승용   0.043054    0.152127  0.130522   -0.323332  0.004394 -0.001583   \n",
      "피해운전자 차종_이륜   0.021151    0.031703 -0.167888    0.035597  0.007032 -0.000401   \n",
      "피해운전자 차종_자전거  0.017029   -0.005870 -0.016290    0.040318  0.004428 -0.001264   \n",
      "피해운전자 차종_화물  -0.011442   -0.021033  0.040513   -0.021903  0.007718  0.015817   \n",
      "\n",
      "                요일_수요일    요일_월요일    요일_일요일    요일_토요일  ...  도로형태_주차장  \\\n",
      "가해운전자 연령      0.007432  0.015464 -0.057412 -0.028416  ...  0.021092   \n",
      "가해운전자 상해정도    0.006579 -0.001182 -0.006391 -0.011636  ...  0.001760   \n",
      "피해운전자 연령     -0.007404 -0.003703 -0.007231  0.002242  ...  0.000546   \n",
      "피해운전자 상해정도    0.002182  0.003311  0.021906 -0.002056  ... -0.005283   \n",
      "요일_금요일       -0.164117 -0.147406 -0.176217 -0.202513  ...  0.006540   \n",
      "요일_목요일       -0.161037 -0.144640 -0.172910 -0.198713  ...  0.003580   \n",
      "요일_수요일        1.000000 -0.134798 -0.161144 -0.185191  ... -0.001929   \n",
      "요일_월요일       -0.134798  1.000000 -0.144736 -0.166334  ...  0.004337   \n",
      "요일_일요일       -0.161144 -0.144736  1.000000 -0.198844  ... -0.006942   \n",
      "요일_토요일       -0.185191 -0.166334 -0.198844  1.000000  ...  0.003120   \n",
      "요일_화요일       -0.148756 -0.133609 -0.159723 -0.183558  ... -0.009163   \n",
      "년            -0.003056  0.020311 -0.023350 -0.014655  ...  0.022022   \n",
      "월            -0.012807 -0.005557  0.001421  0.008228  ...  0.005241   \n",
      "일            -0.002182 -0.009403 -0.003464  0.004579  ...  0.012361   \n",
      "시간            0.028499  0.089421 -0.078677 -0.106867  ...  0.016739   \n",
      "사고유형_차대차      0.002189 -0.011855 -0.023123  0.001666  ... -0.007912   \n",
      "사고유형_차량단독    -0.004617  0.007955  0.026133 -0.002463  ... -0.002392   \n",
      "노면상태_건조      -0.008077 -0.012661 -0.015652  0.022816  ...  0.003359   \n",
      "노면상태_결빙       0.004611  0.002766 -0.004829 -0.000326  ... -0.001015   \n",
      "노면상태_기타       0.001897  0.012171 -0.002317  0.004390  ... -0.004677   \n",
      "노면상태_서리/결빙    0.009902 -0.002042  0.012928  0.005063  ... -0.001419   \n",
      "노면상태_습기      -0.006331 -0.003824  0.023377 -0.018401  ... -0.007510   \n",
      "노면상태_적설       0.013957 -0.007349  0.015388  0.000588  ... -0.001718   \n",
      "노면상태_젖음/습기    0.010200  0.015271 -0.001223 -0.018978  ...  0.004697   \n",
      "기상상태_기타      -0.001445  0.002226 -0.001792  0.000431  ... -0.004243   \n",
      "기상상태_눈        0.005821  0.007133  0.010459  0.010908  ... -0.002700   \n",
      "기상상태_맑음      -0.005398 -0.006689 -0.017346  0.027381  ... -0.001294   \n",
      "기상상태_비        0.010114  0.017530  0.004674 -0.026615  ...  0.002389   \n",
      "기상상태_안개      -0.005587  0.004275  0.010269 -0.006894  ... -0.000483   \n",
      "기상상태_흐림      -0.004629 -0.014708  0.018981 -0.014966  ...  0.002371   \n",
      "도로형태_단일로     -0.007572  0.001391 -0.020454  0.015110  ... -0.042889   \n",
      "도로형태_주차장     -0.001929  0.004337 -0.006942  0.003120  ...  1.000000   \n",
      "가해운전자 차종_승용   0.012175 -0.012688 -0.009810  0.001409  ...  0.009046   \n",
      "가해운전자 차종_이륜  -0.012536  0.009826  0.014974  0.001372  ... -0.011638   \n",
      "가해운전자 차종_자전거  0.009890 -0.005287 -0.000409 -0.000555  ...  0.005917   \n",
      "가해운전자 차종_화물  -0.008744  0.010819 -0.003728 -0.003952  ... -0.002540   \n",
      "피해운전자 차종_보행자  0.000915  0.008219  0.007641  0.000213  ...  0.011629   \n",
      "피해운전자 차종_승용   0.003572 -0.016764 -0.000231  0.009491  ... -0.003322   \n",
      "피해운전자 차종_이륜  -0.001361  0.004249 -0.000514 -0.014960  ... -0.002639   \n",
      "피해운전자 차종_자전거  0.007411  0.000402 -0.004864 -0.005690  ... -0.003352   \n",
      "피해운전자 차종_화물  -0.005612  0.010191 -0.034203  0.001578  ... -0.001724   \n",
      "\n",
      "              가해운전자 차종_승용  가해운전자 차종_이륜  가해운전자 차종_자전거  가해운전자 차종_화물  \\\n",
      "가해운전자 연령        -0.009627    -0.131360      0.045055     0.171531   \n",
      "가해운전자 상해정도       0.303570    -0.336111     -0.170037     0.040402   \n",
      "피해운전자 연령         0.013106    -0.007514     -0.017946    -0.002329   \n",
      "피해운전자 상해정도      -0.244490     0.291803      0.085898    -0.033703   \n",
      "요일_금요일           0.013618    -0.014010     -0.008616     0.000887   \n",
      "요일_목요일           0.001647    -0.007579      0.003468     0.005712   \n",
      "요일_수요일           0.012175    -0.012536      0.009890    -0.008744   \n",
      "요일_월요일          -0.012688     0.009826     -0.005287     0.010819   \n",
      "요일_일요일          -0.009810     0.014974     -0.000409    -0.003728   \n",
      "요일_토요일           0.001409     0.001372     -0.000555    -0.003952   \n",
      "요일_화요일          -0.008091     0.009107      0.001601     0.000311   \n",
      "년               -0.026432    -0.014707      0.129853    -0.005812   \n",
      "월               -0.015570     0.020116      0.017031    -0.010522   \n",
      "일               -0.002211     0.003869     -0.004148     0.000686   \n",
      "시간               0.016574    -0.066075      0.021370     0.050871   \n",
      "사고유형_차대차         0.289472    -0.333693     -0.104476     0.025268   \n",
      "사고유형_차량단독       -0.327309     0.409685      0.048971    -0.035322   \n",
      "노면상태_건조         -0.038503     0.039842      0.023031    -0.002104   \n",
      "노면상태_결빙          0.006830    -0.001624     -0.003778    -0.007243   \n",
      "노면상태_기타          0.015346    -0.011145     -0.000107    -0.010567   \n",
      "노면상태_서리/결빙       0.004162    -0.001983      0.002724    -0.005783   \n",
      "노면상태_습기          0.014021    -0.012311     -0.027964     0.008389   \n",
      "노면상태_적설          0.017380    -0.015165     -0.006398    -0.005080   \n",
      "노면상태_젖음/습기       0.027656    -0.034425     -0.007011     0.004283   \n",
      "기상상태_기타          0.004469     0.000261     -0.002216    -0.006691   \n",
      "기상상태_눈           0.011497    -0.011186     -0.005827    -0.000915   \n",
      "기상상태_맑음         -0.023656     0.021530      0.020661    -0.000792   \n",
      "기상상태_비           0.037568    -0.041813     -0.022920     0.006318   \n",
      "기상상태_안개         -0.008422     0.004304     -0.001800     0.009289   \n",
      "기상상태_흐림         -0.013915     0.020199     -0.001819    -0.003191   \n",
      "도로형태_단일로         0.001110    -0.010826      0.012523     0.006143   \n",
      "도로형태_주차장         0.009046    -0.011638      0.005917    -0.002540   \n",
      "가해운전자 차종_승용      1.000000    -0.748339     -0.269122    -0.515998   \n",
      "가해운전자 차종_이륜     -0.748339     1.000000     -0.043334    -0.083086   \n",
      "가해운전자 차종_자전거    -0.269122    -0.043334      1.000000    -0.029880   \n",
      "가해운전자 차종_화물     -0.515998    -0.083086     -0.029880     1.000000   \n",
      "피해운전자 차종_보행자    -0.096232     0.085258      0.089644    -0.003082   \n",
      "피해운전자 차종_승용      0.249725    -0.275409     -0.110914     0.016025   \n",
      "피해운전자 차종_이륜     -0.015731     0.020514      0.008481    -0.006152   \n",
      "피해운전자 차종_자전거    -0.053767     0.023602      0.110551    -0.001663   \n",
      "피해운전자 차종_화물      0.003829    -0.014569     -0.004309     0.015820   \n",
      "\n",
      "              피해운전자 차종_보행자  피해운전자 차종_승용  피해운전자 차종_이륜  피해운전자 차종_자전거  \\\n",
      "가해운전자 연령          0.010286     0.043054     0.021151      0.017029   \n",
      "가해운전자 상해정도        0.047632     0.152127     0.031703     -0.005870   \n",
      "피해운전자 연령         -0.073514     0.130522    -0.167888     -0.016290   \n",
      "피해운전자 상해정도        0.089651    -0.323332     0.035597      0.040318   \n",
      "요일_금요일           -0.012053     0.004394     0.007032      0.004428   \n",
      "요일_목요일            0.000308    -0.001583    -0.000401     -0.001264   \n",
      "요일_수요일            0.000915     0.003572    -0.001361      0.007411   \n",
      "요일_월요일            0.008219    -0.016764     0.004249      0.000402   \n",
      "요일_일요일            0.007641    -0.000231    -0.000514     -0.004864   \n",
      "요일_토요일            0.000213     0.009491    -0.014960     -0.005690   \n",
      "요일_화요일           -0.004279    -0.001879     0.008246      0.000524   \n",
      "년                -0.031995    -0.028246     0.086494      0.011392   \n",
      "월                 0.019511    -0.011945    -0.000867      0.003578   \n",
      "일                -0.006005     0.010497     0.001563     -0.009779   \n",
      "시간                0.015708     0.027440     0.058723      0.027267   \n",
      "사고유형_차대차         -0.765195     0.693668     0.097423      0.040384   \n",
      "사고유형_차량단독        -0.073175    -0.406360    -0.057071     -0.023658   \n",
      "노면상태_건조          -0.007665    -0.003332     0.000379      0.016485   \n",
      "노면상태_결빙          -0.004485    -0.004521     0.004771     -0.003026   \n",
      "노면상태_기타          -0.006530     0.004350    -0.004312      0.001403   \n",
      "노면상태_서리/결빙        0.004347    -0.007044    -0.001572     -0.004232   \n",
      "노면상태_습기           0.020519     0.001767    -0.017250     -0.006641   \n",
      "노면상태_적설          -0.004321     0.013007    -0.005223     -0.005124   \n",
      "노면상태_젖음/습기       -0.002286    -0.000093     0.016484     -0.015526   \n",
      "기상상태_기타          -0.003646    -0.001561     0.011959      0.007585   \n",
      "기상상태_눈            0.000866     0.003881    -0.001188     -0.002804   \n",
      "기상상태_맑음          -0.025757     0.012663    -0.008913      0.004040   \n",
      "기상상태_비            0.014734     0.005996     0.001368     -0.019863   \n",
      "기상상태_안개          -0.004460    -0.011501     0.009176     -0.001442   \n",
      "기상상태_흐림           0.025363    -0.027625     0.006154      0.014952   \n",
      "도로형태_단일로          0.040430    -0.055097    -0.058871     -0.001495   \n",
      "도로형태_주차장          0.011629    -0.003322    -0.002639     -0.003352   \n",
      "가해운전자 차종_승용      -0.096232     0.249725    -0.015731     -0.053767   \n",
      "가해운전자 차종_이륜       0.085258    -0.275409     0.020514      0.023602   \n",
      "가해운전자 차종_자전거      0.089644    -0.110914     0.008481      0.110551   \n",
      "가해운전자 차종_화물      -0.003082     0.016025    -0.006152     -0.001663   \n",
      "피해운전자 차종_보행자      1.000000    -0.531086    -0.074589     -0.030919   \n",
      "피해운전자 차종_승용      -0.531086     1.000000    -0.414209     -0.171701   \n",
      "피해운전자 차종_이륜      -0.074589    -0.414209     1.000000     -0.024115   \n",
      "피해운전자 차종_자전거     -0.030919    -0.171701    -0.024115      1.000000   \n",
      "피해운전자 차종_화물      -0.069464    -0.385749    -0.054177     -0.022458   \n",
      "\n",
      "              피해운전자 차종_화물  \n",
      "가해운전자 연령        -0.011442  \n",
      "가해운전자 상해정도      -0.021033  \n",
      "피해운전자 연령         0.040513  \n",
      "피해운전자 상해정도      -0.021903  \n",
      "요일_금요일           0.007718  \n",
      "요일_목요일           0.015817  \n",
      "요일_수요일          -0.005612  \n",
      "요일_월요일           0.010191  \n",
      "요일_일요일          -0.034203  \n",
      "요일_토요일           0.001578  \n",
      "요일_화요일           0.005570  \n",
      "년                0.019251  \n",
      "월               -0.003400  \n",
      "일               -0.006478  \n",
      "시간              -0.051634  \n",
      "사고유형_차대차         0.090729  \n",
      "사고유형_차량단독       -0.053150  \n",
      "노면상태_건조         -0.000406  \n",
      "노면상태_결빙         -0.000365  \n",
      "노면상태_기타         -0.004329  \n",
      "노면상태_서리/결빙       0.008906  \n",
      "노면상태_습기         -0.012024  \n",
      "노면상태_적설         -0.003903  \n",
      "노면상태_젖음/습기       0.011950  \n",
      "기상상태_기타         -0.011248  \n",
      "기상상태_눈          -0.001081  \n",
      "기상상태_맑음          0.008332  \n",
      "기상상태_비          -0.003189  \n",
      "기상상태_안개         -0.003239  \n",
      "기상상태_흐림         -0.002941  \n",
      "도로형태_단일로         0.024886  \n",
      "도로형태_주차장        -0.001724  \n",
      "가해운전자 차종_승용      0.003829  \n",
      "가해운전자 차종_이륜     -0.014569  \n",
      "가해운전자 차종_자전거    -0.004309  \n",
      "가해운전자 차종_화물      0.015820  \n",
      "피해운전자 차종_보행자    -0.069464  \n",
      "피해운전자 차종_승용     -0.385749  \n",
      "피해운전자 차종_이륜     -0.054177  \n",
      "피해운전자 차종_자전거    -0.022458  \n",
      "피해운전자 차종_화물      1.000000  \n",
      "\n",
      "[41 rows x 41 columns]\n"
     ]
    }
   ],
   "source": [
    "print(correlation_matrix)"
   ]
  },
  {
   "cell_type": "code",
   "execution_count": 24,
   "metadata": {},
   "outputs": [
    {
     "ename": "KeyError",
     "evalue": "\"['사고유형_차대사람'] not in index\"",
     "output_type": "error",
     "traceback": [
      "\u001b[1;31m---------------------------------------------------------------------------\u001b[0m",
      "\u001b[1;31mKeyError\u001b[0m                                  Traceback (most recent call last)",
      "Cell \u001b[1;32mIn[24], line 1\u001b[0m\n\u001b[1;32m----> 1\u001b[0m selected_data \u001b[38;5;241m=\u001b[39m \u001b[43mdata\u001b[49m\u001b[43m[\u001b[49m\u001b[43m[\u001b[49m\u001b[38;5;124;43m'\u001b[39;49m\u001b[38;5;124;43m피해운전자 차종_보행자\u001b[39;49m\u001b[38;5;124;43m'\u001b[39;49m\u001b[43m,\u001b[49m\u001b[43m \u001b[49m\u001b[38;5;124;43m'\u001b[39;49m\u001b[38;5;124;43m사고유형_차대사람\u001b[39;49m\u001b[38;5;124;43m'\u001b[39;49m\u001b[43m]\u001b[49m\u001b[43m]\u001b[49m\n",
      "File \u001b[1;32mc:\\Users\\user\\miniconda3\\envs\\baseball_project\\Lib\\site-packages\\pandas\\core\\frame.py:4108\u001b[0m, in \u001b[0;36mDataFrame.__getitem__\u001b[1;34m(self, key)\u001b[0m\n\u001b[0;32m   4106\u001b[0m     \u001b[38;5;28;01mif\u001b[39;00m is_iterator(key):\n\u001b[0;32m   4107\u001b[0m         key \u001b[38;5;241m=\u001b[39m \u001b[38;5;28mlist\u001b[39m(key)\n\u001b[1;32m-> 4108\u001b[0m     indexer \u001b[38;5;241m=\u001b[39m \u001b[38;5;28;43mself\u001b[39;49m\u001b[38;5;241;43m.\u001b[39;49m\u001b[43mcolumns\u001b[49m\u001b[38;5;241;43m.\u001b[39;49m\u001b[43m_get_indexer_strict\u001b[49m\u001b[43m(\u001b[49m\u001b[43mkey\u001b[49m\u001b[43m,\u001b[49m\u001b[43m \u001b[49m\u001b[38;5;124;43m\"\u001b[39;49m\u001b[38;5;124;43mcolumns\u001b[39;49m\u001b[38;5;124;43m\"\u001b[39;49m\u001b[43m)\u001b[49m[\u001b[38;5;241m1\u001b[39m]\n\u001b[0;32m   4110\u001b[0m \u001b[38;5;66;03m# take() does not accept boolean indexers\u001b[39;00m\n\u001b[0;32m   4111\u001b[0m \u001b[38;5;28;01mif\u001b[39;00m \u001b[38;5;28mgetattr\u001b[39m(indexer, \u001b[38;5;124m\"\u001b[39m\u001b[38;5;124mdtype\u001b[39m\u001b[38;5;124m\"\u001b[39m, \u001b[38;5;28;01mNone\u001b[39;00m) \u001b[38;5;241m==\u001b[39m \u001b[38;5;28mbool\u001b[39m:\n",
      "File \u001b[1;32mc:\\Users\\user\\miniconda3\\envs\\baseball_project\\Lib\\site-packages\\pandas\\core\\indexes\\base.py:6200\u001b[0m, in \u001b[0;36mIndex._get_indexer_strict\u001b[1;34m(self, key, axis_name)\u001b[0m\n\u001b[0;32m   6197\u001b[0m \u001b[38;5;28;01melse\u001b[39;00m:\n\u001b[0;32m   6198\u001b[0m     keyarr, indexer, new_indexer \u001b[38;5;241m=\u001b[39m \u001b[38;5;28mself\u001b[39m\u001b[38;5;241m.\u001b[39m_reindex_non_unique(keyarr)\n\u001b[1;32m-> 6200\u001b[0m \u001b[38;5;28;43mself\u001b[39;49m\u001b[38;5;241;43m.\u001b[39;49m\u001b[43m_raise_if_missing\u001b[49m\u001b[43m(\u001b[49m\u001b[43mkeyarr\u001b[49m\u001b[43m,\u001b[49m\u001b[43m \u001b[49m\u001b[43mindexer\u001b[49m\u001b[43m,\u001b[49m\u001b[43m \u001b[49m\u001b[43maxis_name\u001b[49m\u001b[43m)\u001b[49m\n\u001b[0;32m   6202\u001b[0m keyarr \u001b[38;5;241m=\u001b[39m \u001b[38;5;28mself\u001b[39m\u001b[38;5;241m.\u001b[39mtake(indexer)\n\u001b[0;32m   6203\u001b[0m \u001b[38;5;28;01mif\u001b[39;00m \u001b[38;5;28misinstance\u001b[39m(key, Index):\n\u001b[0;32m   6204\u001b[0m     \u001b[38;5;66;03m# GH 42790 - Preserve name from an Index\u001b[39;00m\n",
      "File \u001b[1;32mc:\\Users\\user\\miniconda3\\envs\\baseball_project\\Lib\\site-packages\\pandas\\core\\indexes\\base.py:6252\u001b[0m, in \u001b[0;36mIndex._raise_if_missing\u001b[1;34m(self, key, indexer, axis_name)\u001b[0m\n\u001b[0;32m   6249\u001b[0m     \u001b[38;5;28;01mraise\u001b[39;00m \u001b[38;5;167;01mKeyError\u001b[39;00m(\u001b[38;5;124mf\u001b[39m\u001b[38;5;124m\"\u001b[39m\u001b[38;5;124mNone of [\u001b[39m\u001b[38;5;132;01m{\u001b[39;00mkey\u001b[38;5;132;01m}\u001b[39;00m\u001b[38;5;124m] are in the [\u001b[39m\u001b[38;5;132;01m{\u001b[39;00maxis_name\u001b[38;5;132;01m}\u001b[39;00m\u001b[38;5;124m]\u001b[39m\u001b[38;5;124m\"\u001b[39m)\n\u001b[0;32m   6251\u001b[0m not_found \u001b[38;5;241m=\u001b[39m \u001b[38;5;28mlist\u001b[39m(ensure_index(key)[missing_mask\u001b[38;5;241m.\u001b[39mnonzero()[\u001b[38;5;241m0\u001b[39m]]\u001b[38;5;241m.\u001b[39munique())\n\u001b[1;32m-> 6252\u001b[0m \u001b[38;5;28;01mraise\u001b[39;00m \u001b[38;5;167;01mKeyError\u001b[39;00m(\u001b[38;5;124mf\u001b[39m\u001b[38;5;124m\"\u001b[39m\u001b[38;5;132;01m{\u001b[39;00mnot_found\u001b[38;5;132;01m}\u001b[39;00m\u001b[38;5;124m not in index\u001b[39m\u001b[38;5;124m\"\u001b[39m)\n",
      "\u001b[1;31mKeyError\u001b[0m: \"['사고유형_차대사람'] not in index\""
     ]
    }
   ],
   "source": [
    "selected_data = data[['피해운전자 차종_보행자', '사고유형_차대사람']]"
   ]
  },
  {
   "cell_type": "code",
   "execution_count": 406,
   "metadata": {},
   "outputs": [],
   "source": [
    "corr_matrix = selected_data.corr()"
   ]
  },
  {
   "cell_type": "code",
   "execution_count": 407,
   "metadata": {},
   "outputs": [
    {
     "data": {
      "image/png": "[encoded data removed]",
      "text/plain": [
       "<Figure size 400x400 with 2 Axes>"
      ]
     },
     "metadata": {},
     "output_type": "display_data"
    }
   ],
   "source": [
    "fig, ax = plt.subplots(1, 1, figsize=(4,4))\n",
    "sns.heatmap(corr_matrix, annot=True, cmap='coolwarm', vmin=-1, vmax=1)\n",
    "plt.show()"
   ]
  },
  {
   "cell_type": "code",
   "execution_count": 408,
   "metadata": {},
   "outputs": [
    {
     "data": {
      "image/png": "[encoded data removed]",
      "text/plain": [
       "<Figure size 400x400 with 2 Axes>"
      ]
     },
     "metadata": {},
     "output_type": "display_data"
    }
   ],
   "source": [
    "selected_data = data[['도로형태_단일로', '도로형태_교차로']]\n",
    "corr_matrix = selected_data.corr()\n",
    "fig, ax = plt.subplots(1, 1, figsize=(4,4))\n",
    "sns.heatmap(corr_matrix, annot=True, cmap='coolwarm', vmin=-1, vmax=1)\n",
    "plt.show()"
   ]
  },
  {
   "cell_type": "code",
   "execution_count": 409,
   "metadata": {},
   "outputs": [
    {
     "data": {
      "image/png": "[encoded data removed]",
      "text/plain": [
       "<Figure size 400x400 with 2 Axes>"
      ]
     },
     "metadata": {},
     "output_type": "display_data"
    }
   ],
   "source": [
    "selected_data = data[['피해운전자 성별_남', '피해운전자 성별_여']]\n",
    "corr_matrix = selected_data.corr()\n",
    "fig, ax = plt.subplots(1, 1, figsize=(4,4))\n",
    "sns.heatmap(corr_matrix, annot=True, cmap='coolwarm', vmin=-1, vmax=1)\n",
    "plt.show()"
   ]
  },
  {
   "cell_type": "code",
   "execution_count": 22,
   "metadata": {},
   "outputs": [
    {
     "data": {
      "image/png": "[encoded data removed]",
      "text/plain": [
       "<Figure size 1500x1500 with 2 Axes>"
      ]
     },
     "metadata": {},
     "output_type": "display_data"
    }
   ],
   "source": [
    "fig, ax = plt.subplots(1, 1, figsize=(15,15))\n",
    "sns.heatmap(correlation_matrix, annot=False, cmap='coolwarm')\n",
    "plt.show()"
   ]
  },
  {
   "cell_type": "code",
   "execution_count": 41,
   "metadata": {},
   "outputs": [],
   "source": [
    "data.to_csv('label_data.csv', index=False)"
   ]
  },
  {
   "cell_type": "code",
   "execution_count": 25,
   "metadata": {},
   "outputs": [],
   "source": [
    "data.to_csv('data.csv', index=False)"
   ]
  },
  {
   "cell_type": "code",
   "execution_count": 26,
   "metadata": {},
   "outputs": [],
   "source": [
    "data.to_csv('data_kor.csv', index=False, encoding='cp949')"
   ]
  },
  {
   "cell_type": "code",
   "execution_count": 42,
   "metadata": {},
   "outputs": [
    {
     "data": {
      "image/png": "[encoded data removed]",
      "text/plain": [
       "<Figure size 400x400 with 2 Axes>"
      ]
     },
     "metadata": {},
     "output_type": "display_data"
    }
   ],
   "source": [
    "selected_data = data[['기상상태_비', '노면상태_건조']]\n",
    "corr_matrix = selected_data.corr()\n",
    "fig, ax = plt.subplots(1, 1, figsize=(4,4))\n",
    "sns.heatmap(corr_matrix, annot=True, cmap='coolwarm', vmin=-1, vmax=1)\n",
    "plt.show()"
   ]
  },
  {
   "cell_type": "code",
   "execution_count": null,
   "metadata": {},
   "outputs": [],
   "source": []
  }
 ],
 "metadata": {
  "kernelspec": {
   "display_name": "baseball_project",
   "language": "python",
   "name": "python3"
  },
  "language_info": {
   "codemirror_mode": {
    "name": "ipython",
    "version": 3
   },
   "file_extension": ".py",
   "mimetype": "text/x-python",
   "name": "python",
   "nbconvert_exporter": "python",
   "pygments_lexer": "ipython3",
   "version": "3.12.5"
  }
 },
 "nbformat": 4,
 "nbformat_minor": 2
}
