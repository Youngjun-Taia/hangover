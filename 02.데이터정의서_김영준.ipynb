{
 "cells": [
  {
   "cell_type": "markdown",
   "metadata": {},
   "source": [
    "# 데이터 정의서\n",
    "\n"
   ]
  },
  {
   "cell_type": "markdown",
   "metadata": {},
   "source": [
    "## [서울시 음주운전 교통사고 현황]\n",
    " 1. 데이터 정의\n",
    "    - 서울특별시 내 음주운전 사고 현황이다.(사고일시, 사고유형, 사망자수, 부상자수 등)\n",
    " 2. 수집방법\n",
    "    - 해당 사이트에서 다운로드\n",
    " 3. 수집경로\n",
    "    - (https://taas.koroad.or.kr/gis/mcm/mcl/initMap.do?menuId=GIS_GMP_STS_RSN#)\n",
    " 4. 데이터구조\n",
    "    - 서울시 음주운전 사고 현황에 대한 정보로 문자형, 실수형으로 구성되어 있음."
   ]
  }
 ],
 "metadata": {
  "kernelspec": {
   "display_name": "pybasic",
   "language": "python",
   "name": "python3"
  },
  "language_info": {
   "name": "python",
   "version": "3.12.4"
  }
 },
 "nbformat": 4,
 "nbformat_minor": 2
}
